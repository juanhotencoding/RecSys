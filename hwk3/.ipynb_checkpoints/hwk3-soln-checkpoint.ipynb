{
 "cells": [
  {
   "cell_type": "markdown",
   "metadata": {},
   "source": [
    "# Homework 3 solution\n",
    "- INFO 4871 / 5871\n",
    "- Spring 2019\n",
    "- Professor Robin Burke"
   ]
  },
  {
   "cell_type": "markdown",
   "metadata": {},
   "source": [
    "# NOTE: LKPy 0.6.0\n",
    "\n",
    "To do this homework, you will need to upgrade to LKPy version 0.6.0. I generally try to avoid requiring software changes in the middle of the quarter, but in this case, the benefits are (I believe) worth the hassle. Using `conda` to update should be sufficient. If you have trouble with the update not being detected (as I did on my Mac), you may need to use the `pip`+github method described at https://github.com/lenskit/lkpy."
   ]
  },
  {
   "cell_type": "markdown",
   "metadata": {},
   "source": [
    "## Objective (all students)\n",
    "The object of this assignment is to gain familiarity with algorithm evaluation in LKPy. You will do this by implementing a simple hybrid recommender system and evaluating it relative to its components. I have provided the following:\n",
    "- An outline of the WeightedHybrid class. \n",
    "- A useful utility function my_clone in hwk3_util.py\n",
    "- A simple test case for the WeightedHybrid class\n",
    "- The definition of two knn algorithms UserUserFallback and ItemItemFallback in Fallbacks.py. These are also hybrids in which Bias algorithm is used to predict if not enough neighbors are found. \n",
    "\n",
    "You will first implement the WeightedHybrid. It computes a numerical prediction from its component algorithms and then combines these in a weighted average. "
   ]
  },
  {
   "cell_type": "code",
   "execution_count": 1,
   "metadata": {},
   "outputs": [],
   "source": [
    "import pandas as pd\n",
    "import matplotlib.pyplot as plt\n",
    "import numpy as np\n",
    "%matplotlib inline"
   ]
  },
  {
   "cell_type": "code",
   "execution_count": 2,
   "metadata": {},
   "outputs": [],
   "source": [
    "from lenskit import batch, topn, util\n",
    "from lenskit import crossfold as xf\n",
    "from lenskit.algorithms import Predictor, Recommender\n",
    "from lenskit.algorithms.basic import UnratedItemCandidateSelector\n",
    "from lenskit.metrics.predict import rmse\n"
   ]
  },
  {
   "cell_type": "code",
   "execution_count": 3,
   "metadata": {},
   "outputs": [],
   "source": [
    "%load_ext autoreload\n",
    "%aimport Weighted_Hybrid\n",
    "%aimport hwk3_util\n",
    "%autoreload 2\n",
    "\n",
    "from Weighted_Hybrid import WeightedHybrid\n",
    "from hwk3_util import my_clone\n",
    "from Fallbacks import UserUserFallback, ItemItemFallback"
   ]
  },
  {
   "cell_type": "markdown",
   "metadata": {},
   "source": [
    "## 1. Implement Weighted Hybrid"
   ]
  },
  {
   "cell_type": "code",
   "execution_count": 138,
   "metadata": {},
   "outputs": [],
   "source": [
    "import unittest\n",
    "from test_weighted import test_WeightedHybrid\n",
    "\n",
    "%aimport test_weighted"
   ]
  },
  {
   "cell_type": "code",
   "execution_count": 140,
   "metadata": {},
   "outputs": [
    {
     "name": "stderr",
     "output_type": "stream",
     "text": [
      "test_normalize_weights (test_weighted.test_WeightedHybrid) ... ok\n",
      "test_predict (test_weighted.test_WeightedHybrid) ... ok\n",
      "\n",
      "----------------------------------------------------------------------\n",
      "Ran 2 tests in 0.207s\n",
      "\n",
      "OK\n"
     ]
    },
    {
     "data": {
      "text/plain": [
       "<unittest.runner.TextTestResult run=2 errors=0 failures=0>"
      ]
     },
     "execution_count": 140,
     "metadata": {},
     "output_type": "execute_result"
    }
   ],
   "source": [
    "suite = unittest.TestLoader().loadTestsFromTestCase(test_weighted.test_WeightedHybrid)\n",
    "runner = unittest.TextTestRunner(verbosity=2)\n",
    "runner.run(suite)"
   ]
  },
  {
   "cell_type": "markdown",
   "metadata": {},
   "source": [
    "## Evaluation with RMSE"
   ]
  },
  {
   "cell_type": "markdown",
   "metadata": {},
   "source": [
    "### Load ratings data"
   ]
  },
  {
   "cell_type": "code",
   "execution_count": 4,
   "metadata": {},
   "outputs": [
    {
     "data": {
      "text/html": [
       "<div>\n",
       "<style scoped>\n",
       "    .dataframe tbody tr th:only-of-type {\n",
       "        vertical-align: middle;\n",
       "    }\n",
       "\n",
       "    .dataframe tbody tr th {\n",
       "        vertical-align: top;\n",
       "    }\n",
       "\n",
       "    .dataframe thead th {\n",
       "        text-align: right;\n",
       "    }\n",
       "</style>\n",
       "<table border=\"1\" class=\"dataframe\">\n",
       "  <thead>\n",
       "    <tr style=\"text-align: right;\">\n",
       "      <th></th>\n",
       "      <th>user</th>\n",
       "      <th>item</th>\n",
       "      <th>rating</th>\n",
       "      <th>timestamp</th>\n",
       "    </tr>\n",
       "  </thead>\n",
       "  <tbody>\n",
       "    <tr>\n",
       "      <th>0</th>\n",
       "      <td>12882</td>\n",
       "      <td>1</td>\n",
       "      <td>4.0</td>\n",
       "      <td>1147195252</td>\n",
       "    </tr>\n",
       "    <tr>\n",
       "      <th>1</th>\n",
       "      <td>12882</td>\n",
       "      <td>32</td>\n",
       "      <td>3.5</td>\n",
       "      <td>1147195307</td>\n",
       "    </tr>\n",
       "    <tr>\n",
       "      <th>2</th>\n",
       "      <td>12882</td>\n",
       "      <td>47</td>\n",
       "      <td>5.0</td>\n",
       "      <td>1147195343</td>\n",
       "    </tr>\n",
       "    <tr>\n",
       "      <th>3</th>\n",
       "      <td>12882</td>\n",
       "      <td>50</td>\n",
       "      <td>5.0</td>\n",
       "      <td>1147185499</td>\n",
       "    </tr>\n",
       "    <tr>\n",
       "      <th>4</th>\n",
       "      <td>12882</td>\n",
       "      <td>110</td>\n",
       "      <td>4.5</td>\n",
       "      <td>1147195239</td>\n",
       "    </tr>\n",
       "  </tbody>\n",
       "</table>\n",
       "</div>"
      ],
      "text/plain": [
       "    user  item  rating   timestamp\n",
       "0  12882     1     4.0  1147195252\n",
       "1  12882    32     3.5  1147195307\n",
       "2  12882    47     5.0  1147195343\n",
       "3  12882    50     5.0  1147185499\n",
       "4  12882   110     4.5  1147195239"
      ]
     },
     "execution_count": 4,
     "metadata": {},
     "output_type": "execute_result"
    }
   ],
   "source": [
    "ratings = pd.read_csv('ratings.csv', encoding='latin-1')\n",
    "ratings.columns = ['user', 'item', 'rating', 'timestamp']\n",
    "ratings.head()\n"
   ]
  },
  {
   "cell_type": "markdown",
   "metadata": {},
   "source": [
    "### Create algorithms"
   ]
  },
  {
   "cell_type": "code",
   "execution_count": 98,
   "metadata": {},
   "outputs": [],
   "source": [
    "user = UserUserFallback(20, min_nbrs=5)\n",
    "item = ItemItemFallback(20, min_nbrs=5)"
   ]
  },
  {
   "cell_type": "code",
   "execution_count": 99,
   "metadata": {},
   "outputs": [],
   "source": [
    "wt = WeightedHybrid([user, item], [0.8, 0.2])"
   ]
  },
  {
   "cell_type": "markdown",
   "metadata": {},
   "source": [
    "### A helper function for doing the evaluation\n",
    "Makes repeated calls to `batch.predict` easier to perform.\n",
    "\n",
    "(Adapted from LKPy \"Getting started\" documentation.)"
   ]
  },
  {
   "cell_type": "code",
   "execution_count": 100,
   "metadata": {},
   "outputs": [],
   "source": [
    "def eval_preds(aname, fold, algo, train, test):\n",
    "    fittable = my_clone(algo)\n",
    "    fittable.fit(train)\n",
    "    \n",
    "    preds = batch.predict(fittable, test)\n",
    "    preds['Algorithm'] = aname\n",
    "    preds['Fold'] = fold\n",
    "    return preds"
   ]
  },
  {
   "cell_type": "markdown",
   "metadata": {},
   "source": [
    "### Perform 5-fold cross-validation\n",
    "Note that all the happens here is that predictions are generated. Evaluation is later."
   ]
  },
  {
   "cell_type": "code",
   "execution_count": 101,
   "metadata": {},
   "outputs": [
    {
     "name": "stdout",
     "output_type": "stream",
     "text": [
      "Completed fold 1\n",
      "Completed fold 2\n",
      "Completed fold 3\n",
      "Completed fold 4\n",
      "Completed fold 5\n"
     ]
    }
   ],
   "source": [
    "np.random.seed(20190303)\n",
    "\n",
    "all_preds = []\n",
    "test_data = []\n",
    "fold = 0\n",
    "for train, test in xf.partition_users(ratings[['user', 'item', 'rating']], 5, xf.SampleFrac(0.2)):\n",
    "    test_data.append(test)\n",
    "    all_preds.append(eval_preds('Weighted', fold, wt, train, test))\n",
    "    all_preds.append(eval_preds('UserKnn', fold, user, train, test))\n",
    "    all_preds.append(eval_preds('ItemKnn', fold, item, train, test))\n",
    "    print(\"Completed fold {}\".format(fold))\n",
    "    fold += 1"
   ]
  },
  {
   "cell_type": "markdown",
   "metadata": {},
   "source": [
    "### Combine all results into one data frame"
   ]
  },
  {
   "cell_type": "code",
   "execution_count": 102,
   "metadata": {},
   "outputs": [
    {
     "data": {
      "text/html": [
       "<div>\n",
       "<style scoped>\n",
       "    .dataframe tbody tr th:only-of-type {\n",
       "        vertical-align: middle;\n",
       "    }\n",
       "\n",
       "    .dataframe tbody tr th {\n",
       "        vertical-align: top;\n",
       "    }\n",
       "\n",
       "    .dataframe thead th {\n",
       "        text-align: right;\n",
       "    }\n",
       "</style>\n",
       "<table border=\"1\" class=\"dataframe\">\n",
       "  <thead>\n",
       "    <tr style=\"text-align: right;\">\n",
       "      <th></th>\n",
       "      <th>user</th>\n",
       "      <th>item</th>\n",
       "      <th>rating</th>\n",
       "      <th>prediction</th>\n",
       "      <th>Algorithm</th>\n",
       "      <th>Fold</th>\n",
       "    </tr>\n",
       "  </thead>\n",
       "  <tbody>\n",
       "    <tr>\n",
       "      <th>0</th>\n",
       "      <td>975</td>\n",
       "      <td>112852</td>\n",
       "      <td>4.0</td>\n",
       "      <td>3.869248</td>\n",
       "      <td>Weighted</td>\n",
       "      <td>0</td>\n",
       "    </tr>\n",
       "    <tr>\n",
       "      <th>1</th>\n",
       "      <td>975</td>\n",
       "      <td>4011</td>\n",
       "      <td>4.0</td>\n",
       "      <td>4.001428</td>\n",
       "      <td>Weighted</td>\n",
       "      <td>0</td>\n",
       "    </tr>\n",
       "    <tr>\n",
       "      <th>2</th>\n",
       "      <td>975</td>\n",
       "      <td>1732</td>\n",
       "      <td>4.5</td>\n",
       "      <td>4.236176</td>\n",
       "      <td>Weighted</td>\n",
       "      <td>0</td>\n",
       "    </tr>\n",
       "    <tr>\n",
       "      <th>3</th>\n",
       "      <td>975</td>\n",
       "      <td>5952</td>\n",
       "      <td>3.5</td>\n",
       "      <td>3.958496</td>\n",
       "      <td>Weighted</td>\n",
       "      <td>0</td>\n",
       "    </tr>\n",
       "    <tr>\n",
       "      <th>4</th>\n",
       "      <td>975</td>\n",
       "      <td>91658</td>\n",
       "      <td>3.5</td>\n",
       "      <td>3.919134</td>\n",
       "      <td>Weighted</td>\n",
       "      <td>0</td>\n",
       "    </tr>\n",
       "  </tbody>\n",
       "</table>\n",
       "</div>"
      ],
      "text/plain": [
       "   user    item  rating  prediction Algorithm  Fold\n",
       "0   975  112852     4.0    3.869248  Weighted     0\n",
       "1   975    4011     4.0    4.001428  Weighted     0\n",
       "2   975    1732     4.5    4.236176  Weighted     0\n",
       "3   975    5952     3.5    3.958496  Weighted     0\n",
       "4   975   91658     3.5    3.919134  Weighted     0"
      ]
     },
     "execution_count": 102,
     "metadata": {},
     "output_type": "execute_result"
    }
   ],
   "source": [
    "all_preds = pd.concat(all_preds, ignore_index=True)\n",
    "all_preds.head()"
   ]
  },
  {
   "cell_type": "markdown",
   "metadata": {},
   "source": [
    "### Compute results\n",
    "- Create an RMSE for each fold of each algorithm\n",
    "- Compute the mean and standard deviation of over the folds for each algorithm\n",
    "\n",
    "No loops. 2-3 or three lines of code. `groupby`, `apply`, and `agg` are your friends. "
   ]
  },
  {
   "cell_type": "code",
   "execution_count": 114,
   "metadata": {},
   "outputs": [
    {
     "data": {
      "text/html": [
       "<div>\n",
       "<style scoped>\n",
       "    .dataframe tbody tr th:only-of-type {\n",
       "        vertical-align: middle;\n",
       "    }\n",
       "\n",
       "    .dataframe tbody tr th {\n",
       "        vertical-align: top;\n",
       "    }\n",
       "\n",
       "    .dataframe thead th {\n",
       "        text-align: right;\n",
       "    }\n",
       "</style>\n",
       "<table border=\"1\" class=\"dataframe\">\n",
       "  <thead>\n",
       "    <tr style=\"text-align: right;\">\n",
       "      <th></th>\n",
       "      <th>mean</th>\n",
       "      <th>std</th>\n",
       "    </tr>\n",
       "    <tr>\n",
       "      <th>Algorithm</th>\n",
       "      <th></th>\n",
       "      <th></th>\n",
       "    </tr>\n",
       "  </thead>\n",
       "  <tbody>\n",
       "    <tr>\n",
       "      <th>ItemKnn</th>\n",
       "      <td>0.754159</td>\n",
       "      <td>0.029264</td>\n",
       "    </tr>\n",
       "    <tr>\n",
       "      <th>UserKnn</th>\n",
       "      <td>0.786515</td>\n",
       "      <td>0.027999</td>\n",
       "    </tr>\n",
       "    <tr>\n",
       "      <th>Weighted</th>\n",
       "      <td>0.772439</td>\n",
       "      <td>0.028559</td>\n",
       "    </tr>\n",
       "  </tbody>\n",
       "</table>\n",
       "</div>"
      ],
      "text/plain": [
       "               mean       std\n",
       "Algorithm                    \n",
       "ItemKnn    0.754159  0.029264\n",
       "UserKnn    0.786515  0.027999\n",
       "Weighted   0.772439  0.028559"
      ]
     },
     "execution_count": 114,
     "metadata": {},
     "output_type": "execute_result"
    }
   ],
   "source": [
    "fold_results = all_preds.groupby(['Algorithm', 'Fold']).apply(lambda df: rmse(df['prediction'], df['rating']))\n",
    "alg_results = fold_results.groupby('Algorithm').agg([np.mean, np.std])\n",
    "alg_results\n"
   ]
  },
  {
   "cell_type": "markdown",
   "metadata": {},
   "source": [
    "### Plot the experimental results\n",
    "Bar plot with error bars. Don't forget to label the y axis."
   ]
  },
  {
   "cell_type": "code",
   "execution_count": 141,
   "metadata": {},
   "outputs": [
    {
     "data": {
      "text/plain": [
       "Text(0,0.5,'RMSE')"
      ]
     },
     "execution_count": 141,
     "metadata": {},
     "output_type": "execute_result"
    },
    {
     "data": {
      "image/png": "[encoded data removed]",
      "text/plain": [
       "<matplotlib.figure.Figure at 0x1fc4cf2f0f0>"
      ]
     },
     "metadata": {},
     "output_type": "display_data"
    }
   ],
   "source": [
    "plt.bar(alg_results.index, alg_results['mean'], yerr=alg_results['std'], capsize=5)\n",
    "plt.ylabel('RMSE')"
   ]
  },
  {
   "cell_type": "markdown",
   "metadata": {},
   "source": [
    "## Evaluation with recall / precision"
   ]
  },
  {
   "cell_type": "markdown",
   "metadata": {},
   "source": [
    "### Helper function\n",
    "Repeated calls to `batch.recommend`. Generate 10 recommendations."
   ]
  },
  {
   "cell_type": "code",
   "execution_count": 160,
   "metadata": {},
   "outputs": [],
   "source": [
    "def eval_recs(aname, fold, algo, train, test):\n",
    "    fittable = my_clone(algo)\n",
    "    fittable = Recommender.adapt(fittable)\n",
    "    fittable.fit(train)\n",
    "    \n",
    "    users = test.user.unique()\n",
    "    recs = batch.recommend(fittable, users, 10)\n",
    "    # add the algorithm\n",
    "    recs['Algorithm'] = aname\n",
    "    recs['Fold'] = fold\n",
    "    return recs\n"
   ]
  },
  {
   "cell_type": "markdown",
   "metadata": {},
   "source": [
    "### Perform 5-fold cross-validation"
   ]
  },
  {
   "cell_type": "code",
   "execution_count": 120,
   "metadata": {},
   "outputs": [
    {
     "name": "stdout",
     "output_type": "stream",
     "text": [
      "Completed fold 0\n",
      "Completed fold 1\n",
      "Completed fold 2\n",
      "Completed fold 3\n",
      "Completed fold 4\n"
     ]
    }
   ],
   "source": [
    "np.random.seed(20190302)\n",
    "\n",
    "all_recs = []\n",
    "test_data = []\n",
    "fold = 0\n",
    "for train, test in xf.partition_users(ratings[['user', 'item', 'rating']], 5, xf.SampleFrac(0.2)):\n",
    "    test_data.append(test)\n",
    "    all_recs.append(eval_recs('Weighted', fold, wt, train, test))\n",
    "    all_recs.append(eval_recs('UserKnn', fold, user, train, test))\n",
    "    all_recs.append(eval_recs('ItemKnn', fold, item, train, test))\n",
    "    print(\"Completed fold {}\".format(fold))\n",
    "    fold += 1"
   ]
  },
  {
   "cell_type": "markdown",
   "metadata": {},
   "source": [
    "### Combine results into one data frame"
   ]
  },
  {
   "cell_type": "code",
   "execution_count": 121,
   "metadata": {},
   "outputs": [
    {
     "data": {
      "text/html": [
       "<div>\n",
       "<style scoped>\n",
       "    .dataframe tbody tr th:only-of-type {\n",
       "        vertical-align: middle;\n",
       "    }\n",
       "\n",
       "    .dataframe tbody tr th {\n",
       "        vertical-align: top;\n",
       "    }\n",
       "\n",
       "    .dataframe thead th {\n",
       "        text-align: right;\n",
       "    }\n",
       "</style>\n",
       "<table border=\"1\" class=\"dataframe\">\n",
       "  <thead>\n",
       "    <tr style=\"text-align: right;\">\n",
       "      <th></th>\n",
       "      <th>item</th>\n",
       "      <th>score</th>\n",
       "      <th>user</th>\n",
       "      <th>rank</th>\n",
       "      <th>Algorithm</th>\n",
       "      <th>Fold</th>\n",
       "    </tr>\n",
       "  </thead>\n",
       "  <tbody>\n",
       "    <tr>\n",
       "      <th>0</th>\n",
       "      <td>296</td>\n",
       "      <td>4.650757</td>\n",
       "      <td>359</td>\n",
       "      <td>1</td>\n",
       "      <td>Weighted</td>\n",
       "      <td>0</td>\n",
       "    </tr>\n",
       "    <tr>\n",
       "      <th>1</th>\n",
       "      <td>589</td>\n",
       "      <td>4.583146</td>\n",
       "      <td>359</td>\n",
       "      <td>2</td>\n",
       "      <td>Weighted</td>\n",
       "      <td>0</td>\n",
       "    </tr>\n",
       "    <tr>\n",
       "      <th>2</th>\n",
       "      <td>1214</td>\n",
       "      <td>4.551680</td>\n",
       "      <td>359</td>\n",
       "      <td>3</td>\n",
       "      <td>Weighted</td>\n",
       "      <td>0</td>\n",
       "    </tr>\n",
       "    <tr>\n",
       "      <th>3</th>\n",
       "      <td>4973</td>\n",
       "      <td>4.540802</td>\n",
       "      <td>359</td>\n",
       "      <td>4</td>\n",
       "      <td>Weighted</td>\n",
       "      <td>0</td>\n",
       "    </tr>\n",
       "    <tr>\n",
       "      <th>4</th>\n",
       "      <td>1193</td>\n",
       "      <td>4.533152</td>\n",
       "      <td>359</td>\n",
       "      <td>5</td>\n",
       "      <td>Weighted</td>\n",
       "      <td>0</td>\n",
       "    </tr>\n",
       "  </tbody>\n",
       "</table>\n",
       "</div>"
      ],
      "text/plain": [
       "   item     score  user  rank Algorithm  Fold\n",
       "0   296  4.650757   359     1  Weighted     0\n",
       "1   589  4.583146   359     2  Weighted     0\n",
       "2  1214  4.551680   359     3  Weighted     0\n",
       "3  4973  4.540802   359     4  Weighted     0\n",
       "4  1193  4.533152   359     5  Weighted     0"
      ]
     },
     "execution_count": 121,
     "metadata": {},
     "output_type": "execute_result"
    }
   ],
   "source": [
    "all_recs = pd.concat(all_recs, ignore_index=True)\n",
    "all_recs.head()"
   ]
  },
  {
   "cell_type": "markdown",
   "metadata": {},
   "source": [
    "### Combine test data into a data frame\n",
    "Needed by the list-oriented evaluation metrics"
   ]
  },
  {
   "cell_type": "code",
   "execution_count": 122,
   "metadata": {},
   "outputs": [
    {
     "data": {
      "text/html": [
       "<div>\n",
       "<style scoped>\n",
       "    .dataframe tbody tr th:only-of-type {\n",
       "        vertical-align: middle;\n",
       "    }\n",
       "\n",
       "    .dataframe tbody tr th {\n",
       "        vertical-align: top;\n",
       "    }\n",
       "\n",
       "    .dataframe thead th {\n",
       "        text-align: right;\n",
       "    }\n",
       "</style>\n",
       "<table border=\"1\" class=\"dataframe\">\n",
       "  <thead>\n",
       "    <tr style=\"text-align: right;\">\n",
       "      <th></th>\n",
       "      <th>user</th>\n",
       "      <th>item</th>\n",
       "      <th>rating</th>\n",
       "    </tr>\n",
       "  </thead>\n",
       "  <tbody>\n",
       "    <tr>\n",
       "      <th>0</th>\n",
       "      <td>359</td>\n",
       "      <td>4144</td>\n",
       "      <td>3.0</td>\n",
       "    </tr>\n",
       "    <tr>\n",
       "      <th>1</th>\n",
       "      <td>359</td>\n",
       "      <td>3061</td>\n",
       "      <td>4.5</td>\n",
       "    </tr>\n",
       "    <tr>\n",
       "      <th>2</th>\n",
       "      <td>359</td>\n",
       "      <td>800</td>\n",
       "      <td>4.0</td>\n",
       "    </tr>\n",
       "    <tr>\n",
       "      <th>3</th>\n",
       "      <td>359</td>\n",
       "      <td>8985</td>\n",
       "      <td>4.0</td>\n",
       "    </tr>\n",
       "    <tr>\n",
       "      <th>4</th>\n",
       "      <td>359</td>\n",
       "      <td>48043</td>\n",
       "      <td>4.0</td>\n",
       "    </tr>\n",
       "  </tbody>\n",
       "</table>\n",
       "</div>"
      ],
      "text/plain": [
       "   user   item  rating\n",
       "0   359   4144     3.0\n",
       "1   359   3061     4.5\n",
       "2   359    800     4.0\n",
       "3   359   8985     4.0\n",
       "4   359  48043     4.0"
      ]
     },
     "execution_count": 122,
     "metadata": {},
     "output_type": "execute_result"
    }
   ],
   "source": [
    "test_data = pd.concat(test_data, ignore_index=True)\n",
    "test_data.head()"
   ]
  },
  {
   "cell_type": "markdown",
   "metadata": {},
   "source": [
    "### Computing recall and precision\n",
    "\n",
    "This step is a bit difficult, and requires an understanding of how `RecListAnalysis` works. So, I supplied the first part of the cell. \n",
    "\n",
    "- Create the `RecListAnalysis` object\n",
    "- Compute the list metrics for each user\n",
    "- Average the users in each fold for each algorithm\n",
    "- Compute mean and standard deviation for the algorithm over the folds."
   ]
  },
  {
   "cell_type": "code",
   "execution_count": 128,
   "metadata": {},
   "outputs": [],
   "source": [
    "rla = topn.RecListAnalysis()\n",
    "rla.add_metric(topn.precision)\n",
    "rla.add_metric(topn.recall)\n",
    "\n",
    "byuser_results = all_recs.groupby(['Algorithm', 'Fold']).apply(lambda df: rla.compute(df, test_data))\n",
    "\n",
    "fold_results = byuser_results.groupby(['Algorithm','Fold']).mean()\n",
    "\n",
    "metric_results = fold_results.groupby(['Algorithm']).agg([np.mean, np.std])\n"
   ]
  },
  {
   "cell_type": "code",
   "execution_count": 129,
   "metadata": {},
   "outputs": [
    {
     "data": {
      "text/html": [
       "<div>\n",
       "<style scoped>\n",
       "    .dataframe tbody tr th:only-of-type {\n",
       "        vertical-align: middle;\n",
       "    }\n",
       "\n",
       "    .dataframe tbody tr th {\n",
       "        vertical-align: top;\n",
       "    }\n",
       "\n",
       "    .dataframe thead tr th {\n",
       "        text-align: left;\n",
       "    }\n",
       "\n",
       "    .dataframe thead tr:last-of-type th {\n",
       "        text-align: right;\n",
       "    }\n",
       "</style>\n",
       "<table border=\"1\" class=\"dataframe\">\n",
       "  <thead>\n",
       "    <tr>\n",
       "      <th></th>\n",
       "      <th colspan=\"2\" halign=\"left\">precision</th>\n",
       "      <th colspan=\"2\" halign=\"left\">recall</th>\n",
       "    </tr>\n",
       "    <tr>\n",
       "      <th></th>\n",
       "      <th>mean</th>\n",
       "      <th>std</th>\n",
       "      <th>mean</th>\n",
       "      <th>std</th>\n",
       "    </tr>\n",
       "    <tr>\n",
       "      <th>Algorithm</th>\n",
       "      <th></th>\n",
       "      <th></th>\n",
       "      <th></th>\n",
       "      <th></th>\n",
       "    </tr>\n",
       "  </thead>\n",
       "  <tbody>\n",
       "    <tr>\n",
       "      <th>ItemKnn</th>\n",
       "      <td>0.070519</td>\n",
       "      <td>0.004413</td>\n",
       "      <td>0.131003</td>\n",
       "      <td>0.010344</td>\n",
       "    </tr>\n",
       "    <tr>\n",
       "      <th>UserKnn</th>\n",
       "      <td>0.078746</td>\n",
       "      <td>0.005032</td>\n",
       "      <td>0.139762</td>\n",
       "      <td>0.007862</td>\n",
       "    </tr>\n",
       "    <tr>\n",
       "      <th>Weighted</th>\n",
       "      <td>0.079164</td>\n",
       "      <td>0.005219</td>\n",
       "      <td>0.143884</td>\n",
       "      <td>0.009386</td>\n",
       "    </tr>\n",
       "  </tbody>\n",
       "</table>\n",
       "</div>"
      ],
      "text/plain": [
       "          precision              recall          \n",
       "               mean       std      mean       std\n",
       "Algorithm                                        \n",
       "ItemKnn    0.070519  0.004413  0.131003  0.010344\n",
       "UserKnn    0.078746  0.005032  0.139762  0.007862\n",
       "Weighted   0.079164  0.005219  0.143884  0.009386"
      ]
     },
     "execution_count": 129,
     "metadata": {},
     "output_type": "execute_result"
    }
   ],
   "source": [
    "\n",
    "metric_results.head()"
   ]
  },
  {
   "cell_type": "markdown",
   "metadata": {},
   "source": [
    "### Bar plot of precision\n",
    "Similar to above with error bars."
   ]
  },
  {
   "cell_type": "code",
   "execution_count": 134,
   "metadata": {
    "scrolled": true
   },
   "outputs": [
    {
     "data": {
      "text/plain": [
       "Text(0,0.5,'Precision')"
      ]
     },
     "execution_count": 134,
     "metadata": {},
     "output_type": "execute_result"
    },
    {
     "data": {
      "image/png": "[encoded data removed]",
      "text/plain": [
       "<matplotlib.figure.Figure at 0x1fc48e7aa58>"
      ]
     },
     "metadata": {},
     "output_type": "display_data"
    }
   ],
   "source": [
    "plt.bar(metric_results.index, metric_results['precision','mean'], yerr=metric_results['precision', 'std'], capsize=5)\n",
    "plt.ylabel('Precision@10')"
   ]
  },
  {
   "cell_type": "markdown",
   "metadata": {},
   "source": [
    "### Bar plot of recall\n",
    "As above"
   ]
  },
  {
   "cell_type": "code",
   "execution_count": 135,
   "metadata": {},
   "outputs": [
    {
     "data": {
      "text/plain": [
       "Text(0,0.5,'Recall')"
      ]
     },
     "execution_count": 135,
     "metadata": {},
     "output_type": "execute_result"
    },
    {
     "data": {
      "image/png": "[encoded data removed]",
      "text/plain": [
       "<matplotlib.figure.Figure at 0x1fc4be86390>"
      ]
     },
     "metadata": {},
     "output_type": "display_data"
    }
   ],
   "source": [
    "plt.bar(metric_results.index, metric_results['recall','mean'], yerr=metric_results['recall', 'std'], capsize=5)\n",
    "plt.ylabel('Recall@10')"
   ]
  },
  {
   "cell_type": "markdown",
   "metadata": {},
   "source": [
    "### (Optional) Scatter plot of recall / precision\n",
    "See example"
   ]
  },
  {
   "cell_type": "code",
   "execution_count": 144,
   "metadata": {},
   "outputs": [
    {
     "data": {
      "text/plain": [
       "<matplotlib.legend.Legend at 0x1fc4bf7a0f0>"
      ]
     },
     "execution_count": 144,
     "metadata": {},
     "output_type": "execute_result"
    },
    {
     "data": {
      "image/png": "[encoded data removed]",
      "text/plain": [
       "<matplotlib.figure.Figure at 0x1fc4bf7a320>"
      ]
     },
     "metadata": {},
     "output_type": "display_data"
    }
   ],
   "source": [
    "colors = ['b', 'y', 'm']\n",
    "\n",
    "plots = [plt.scatter(metric_results['recall','mean'][i],\n",
    "                     metric_results['precision','mean'][i], marker='x', color=colors[i])\n",
    "         for i in range(3)]\n",
    "\n",
    "plt.xlabel('Recall')\n",
    "plt.xlim(0.130, 0.145)\n",
    "\n",
    "plt.ylabel('Precision')\n",
    "plt.ylim(0.065,0.085)\n",
    "    \n",
    "plt.legend(plots, overall.index, loc='upper left')"
   ]
  },
  {
   "cell_type": "markdown",
   "metadata": {},
   "source": [
    "## INFO 5871 only\n",
    "In this section, you will attempt to use linear regression to learn optimal weights for the hybrid. The process is as follows:\n",
    "\n",
    "- Extract one of the five partitions from the cross-validation iterator. This will be used to learn the weights and then not used for evaluation.\n",
    "- Train the user-based and item-based algorithms on this partition.\n",
    "- Use `batch.predict` to compute predictions over the test data.\n",
    "- Construct a linear regression (`sklearn.linear_model` with `fit_intercept` equal to `False`) with the real test set ratings as the predicted variable and the predictions of the two algorithms as the independent variables.\n",
    "- Use the coefficients learned by this process to construct a new hybrid.\n",
    "- Use the remaining four folds of the data to do an evaluation, collecting both prediction values and recommendation lists.\n",
    "- Following the same methodology as above, produce plots (with error bars) of RMSE and nDCG.\n",
    "- Don't forget to answer the question at the end."
   ]
  },
  {
   "cell_type": "code",
   "execution_count": 145,
   "metadata": {},
   "outputs": [],
   "source": [
    "from sklearn.linear_model import LinearRegression"
   ]
  },
  {
   "cell_type": "code",
   "execution_count": 161,
   "metadata": {},
   "outputs": [],
   "source": [
    "np.random.seed(20190304)\n",
    "\n",
    "part = xf.partition_users(ratings[['user', 'item', 'rating']], 5, xf.SampleFrac(0.2))"
   ]
  },
  {
   "cell_type": "code",
   "execution_count": 162,
   "metadata": {},
   "outputs": [],
   "source": [
    "train, test = next(part)"
   ]
  },
  {
   "cell_type": "code",
   "execution_count": 163,
   "metadata": {},
   "outputs": [],
   "source": [
    "user = UserUserFallback(20, min_nbrs=5)\n",
    "item = ItemItemFallback(20, min_nbrs=5)\n",
    "\n",
    "user.fit(train)\n",
    "item.fit(train)\n",
    "    \n",
    "user_preds = batch.predict(user, test)\n",
    "item_preds = batch.predict(item, test)"
   ]
  },
  {
   "cell_type": "code",
   "execution_count": 164,
   "metadata": {},
   "outputs": [],
   "source": [
    "indep = np.array([list(user_preds['prediction']), list(item_preds['prediction'])])\n",
    "indep = np.transpose(indep)\n",
    "dep = test['rating']"
   ]
  },
  {
   "cell_type": "code",
   "execution_count": 165,
   "metadata": {},
   "outputs": [],
   "source": [
    "reg = LinearRegression(fit_intercept=False).fit(indep, dep)"
   ]
  },
  {
   "cell_type": "code",
   "execution_count": 166,
   "metadata": {},
   "outputs": [
    {
     "data": {
      "text/plain": [
       "array([0.14479797, 0.85031975])"
      ]
     },
     "execution_count": 166,
     "metadata": {},
     "output_type": "execute_result"
    }
   ],
   "source": [
    "reg.coef_"
   ]
  },
  {
   "cell_type": "code",
   "execution_count": 167,
   "metadata": {},
   "outputs": [],
   "source": [
    "wt = WeightedHybrid([user, item], list(reg.coef_))"
   ]
  },
  {
   "cell_type": "code",
   "execution_count": 168,
   "metadata": {},
   "outputs": [
    {
     "name": "stdout",
     "output_type": "stream",
     "text": [
      "Completed fold 0\n",
      "Completed fold 1\n",
      "Completed fold 2\n",
      "Completed fold 3\n"
     ]
    }
   ],
   "source": [
    "all_preds = []\n",
    "all_recs = []\n",
    "test_data = []\n",
    "fold = 0\n",
    "for train, test in part:\n",
    "    test_data.append(test)\n",
    "    all_preds.append(eval_preds('Weighted', fold, wt, train, test))\n",
    "    all_preds.append(eval_preds('UserKnn', fold, user, train, test))\n",
    "    all_preds.append(eval_preds('ItemKnn', fold, item, train, test))\n",
    "    \n",
    "    all_recs.append(eval_recs('Weighted', fold, wt, train, test))\n",
    "    all_recs.append(eval_recs('UserKnn', fold, user, train, test))\n",
    "    all_recs.append(eval_recs('ItemKnn', fold, item, train, test))\n",
    "    print(\"Completed fold {}\".format(fold))\n",
    "    fold += 1"
   ]
  },
  {
   "cell_type": "code",
   "execution_count": 169,
   "metadata": {},
   "outputs": [],
   "source": [
    "all_preds = pd.concat(all_preds, ignore_index=True)\n",
    "all_recs = pd.concat(all_recs, ignore_index=True)\n",
    "test_data = pd.concat(test_data, ignore_index=True)"
   ]
  },
  {
   "cell_type": "code",
   "execution_count": 170,
   "metadata": {},
   "outputs": [
    {
     "data": {
      "text/html": [
       "<div>\n",
       "<style scoped>\n",
       "    .dataframe tbody tr th:only-of-type {\n",
       "        vertical-align: middle;\n",
       "    }\n",
       "\n",
       "    .dataframe tbody tr th {\n",
       "        vertical-align: top;\n",
       "    }\n",
       "\n",
       "    .dataframe thead th {\n",
       "        text-align: right;\n",
       "    }\n",
       "</style>\n",
       "<table border=\"1\" class=\"dataframe\">\n",
       "  <thead>\n",
       "    <tr style=\"text-align: right;\">\n",
       "      <th></th>\n",
       "      <th>mean</th>\n",
       "      <th>std</th>\n",
       "    </tr>\n",
       "    <tr>\n",
       "      <th>Algorithm</th>\n",
       "      <th></th>\n",
       "      <th></th>\n",
       "    </tr>\n",
       "  </thead>\n",
       "  <tbody>\n",
       "    <tr>\n",
       "      <th>ItemKnn</th>\n",
       "      <td>0.769931</td>\n",
       "      <td>0.035528</td>\n",
       "    </tr>\n",
       "    <tr>\n",
       "      <th>UserKnn</th>\n",
       "      <td>0.800007</td>\n",
       "      <td>0.035010</td>\n",
       "    </tr>\n",
       "    <tr>\n",
       "      <th>Weighted</th>\n",
       "      <td>0.768337</td>\n",
       "      <td>0.035555</td>\n",
       "    </tr>\n",
       "  </tbody>\n",
       "</table>\n",
       "</div>"
      ],
      "text/plain": [
       "               mean       std\n",
       "Algorithm                    \n",
       "ItemKnn    0.769931  0.035528\n",
       "UserKnn    0.800007  0.035010\n",
       "Weighted   0.768337  0.035555"
      ]
     },
     "execution_count": 170,
     "metadata": {},
     "output_type": "execute_result"
    }
   ],
   "source": [
    "fold_results = all_preds.groupby(['Algorithm', 'Fold']).apply(lambda df: rmse(df['prediction'], df['rating']))\n",
    "alg_results = fold_results.groupby('Algorithm').agg([np.mean, np.std])\n",
    "alg_results"
   ]
  },
  {
   "cell_type": "code",
   "execution_count": 171,
   "metadata": {},
   "outputs": [
    {
     "data": {
      "text/plain": [
       "Text(0,0.5,'RMSE')"
      ]
     },
     "execution_count": 171,
     "metadata": {},
     "output_type": "execute_result"
    },
    {
     "data": {
      "image/png": "[encoded data removed]",
      "text/plain": [
       "<matplotlib.figure.Figure at 0x1fc4bf885c0>"
      ]
     },
     "metadata": {},
     "output_type": "display_data"
    }
   ],
   "source": [
    "plt.bar(alg_results.index, alg_results['mean'], yerr=alg_results['std'], capsize=5)\n",
    "plt.ylabel('RMSE')"
   ]
  },
  {
   "cell_type": "code",
   "execution_count": 172,
   "metadata": {},
   "outputs": [
    {
     "data": {
      "text/html": [
       "<div>\n",
       "<style scoped>\n",
       "    .dataframe tbody tr th:only-of-type {\n",
       "        vertical-align: middle;\n",
       "    }\n",
       "\n",
       "    .dataframe tbody tr th {\n",
       "        vertical-align: top;\n",
       "    }\n",
       "\n",
       "    .dataframe thead tr th {\n",
       "        text-align: left;\n",
       "    }\n",
       "\n",
       "    .dataframe thead tr:last-of-type th {\n",
       "        text-align: right;\n",
       "    }\n",
       "</style>\n",
       "<table border=\"1\" class=\"dataframe\">\n",
       "  <thead>\n",
       "    <tr>\n",
       "      <th></th>\n",
       "      <th colspan=\"2\" halign=\"left\">ndcg</th>\n",
       "    </tr>\n",
       "    <tr>\n",
       "      <th></th>\n",
       "      <th>mean</th>\n",
       "      <th>std</th>\n",
       "    </tr>\n",
       "    <tr>\n",
       "      <th>Algorithm</th>\n",
       "      <th></th>\n",
       "      <th></th>\n",
       "    </tr>\n",
       "  </thead>\n",
       "  <tbody>\n",
       "    <tr>\n",
       "      <th>ItemKnn</th>\n",
       "      <td>0.045311</td>\n",
       "      <td>0.004392</td>\n",
       "    </tr>\n",
       "    <tr>\n",
       "      <th>UserKnn</th>\n",
       "      <td>0.064656</td>\n",
       "      <td>0.002255</td>\n",
       "    </tr>\n",
       "    <tr>\n",
       "      <th>Weighted</th>\n",
       "      <td>0.051340</td>\n",
       "      <td>0.003369</td>\n",
       "    </tr>\n",
       "  </tbody>\n",
       "</table>\n",
       "</div>"
      ],
      "text/plain": [
       "               ndcg          \n",
       "               mean       std\n",
       "Algorithm                    \n",
       "ItemKnn    0.045311  0.004392\n",
       "UserKnn    0.064656  0.002255\n",
       "Weighted   0.051340  0.003369"
      ]
     },
     "execution_count": 172,
     "metadata": {},
     "output_type": "execute_result"
    }
   ],
   "source": [
    "rla = topn.RecListAnalysis()\n",
    "rla.add_metric(topn.ndcg)\n",
    "\n",
    "byuser_results = all_recs.groupby(['Algorithm', 'Fold']).apply(lambda df: rla.compute(df, test_data))\n",
    "fold_results = byuser_results.groupby(['Algorithm','Fold']).mean()\n",
    "metric_results = fold_results.groupby(['Algorithm']).agg([np.mean, np.std])\n",
    "metric_results"
   ]
  },
  {
   "cell_type": "code",
   "execution_count": 173,
   "metadata": {},
   "outputs": [
    {
     "data": {
      "text/plain": [
       "Text(0,0.5,'nDCG@10')"
      ]
     },
     "execution_count": 173,
     "metadata": {},
     "output_type": "execute_result"
    },
    {
     "data": {
      "image/png": "[encoded data removed]",
      "text/plain": [
       "<matplotlib.figure.Figure at 0x1fc4bfe7cf8>"
      ]
     },
     "metadata": {},
     "output_type": "display_data"
    }
   ],
   "source": [
    "plt.bar(metric_results.index, metric_results['ndcg','mean'], yerr=metric_results['ndcg', 'std'], capsize=5)\n",
    "plt.ylabel('nDCG@10')"
   ]
  },
  {
   "cell_type": "markdown",
   "metadata": {},
   "source": [
    "### Question:\n",
    "The optimization procedue produces a hybrid that has a lower RMSE than either component. But that hybrid does not have the highest nDCG. Why did this happen? What must be true about the distribution of errors such that this hybrid does not produce the best ranking?"
   ]
  },
  {
   "cell_type": "code",
   "execution_count": null,
   "metadata": {},
   "outputs": [],
   "source": []
  }
 ],
 "metadata": {
  "kernelspec": {
   "display_name": "Python 3",
   "language": "python",
   "name": "python3"
  },
  "language_info": {
   "codemirror_mode": {
    "name": "ipython",
    "version": 3
   },
   "file_extension": ".py",
   "mimetype": "text/x-python",
   "name": "python",
   "nbconvert_exporter": "python",
   "pygments_lexer": "ipython3",
   "version": "3.6.8"
  }
 },
 "nbformat": 4,
 "nbformat_minor": 2
}
