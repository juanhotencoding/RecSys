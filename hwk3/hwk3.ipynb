{
 "cells": [
  {
   "cell_type": "markdown",
   "metadata": {},
   "source": [
    "# Homework 3 solution\n",
    "- INFO 4871 / 5871\n",
    "- Spring 2019\n",
    "- _Juan Vargas-Murillo_"
   ]
  },
  {
   "cell_type": "markdown",
   "metadata": {},
   "source": [
    "# NOTE: LKPy 0.6.0\n",
    "\n",
    "To do this homework, you will need to upgrade to LKPy version 0.6.0. I generally try to avoid requiring software changes in the middle of the quarter, but in this case, the benefits are (I believe) worth the hassle. Using `conda` to update should be sufficient. If you have trouble with the update not being detected (as I did on my Mac), you may need to use the `pip`+github method described at https://github.com/lenskit/lkpy."
   ]
  },
  {
   "cell_type": "markdown",
   "metadata": {},
   "source": [
    "## Objective (all students)\n",
    "The object of this assignment is to gain familiarity with algorithm evaluation in LKPy. You will do this by implementing a simple hybrid recommender system and evaluating it relative to its components. I have provided the following:\n",
    "- An outline of the WeightedHybrid class. \n",
    "- A useful utility function my_clone in hwk3_util.py\n",
    "- A simple test case for the WeightedHybrid class\n",
    "- The definition of two knn algorithms UserUserFallback and ItemItemFallback in Fallbacks.py. These are also hybrids in which Bias algorithm is used to predict if not enough neighbors are found. \n",
    "\n",
    "You will first implement the WeightedHybrid. It computes a numerical prediction from its component algorithms and then combines these in a weighted average. "
   ]
  },
  {
   "cell_type": "code",
   "execution_count": 1,
   "metadata": {},
   "outputs": [],
   "source": [
    "import pandas as pd\n",
    "import matplotlib.pyplot as plt\n",
    "import numpy as np\n",
    "%matplotlib inline"
   ]
  },
  {
   "cell_type": "code",
   "execution_count": 2,
   "metadata": {},
   "outputs": [],
   "source": [
    "from lenskit import batch, topn, util\n",
    "from lenskit import crossfold as xf\n",
    "from lenskit.algorithms import Predictor, Recommender\n",
    "from lenskit.algorithms.basic import UnratedItemCandidateSelector\n",
    "from lenskit.metrics.predict import rmse"
   ]
  },
  {
   "cell_type": "code",
   "execution_count": 3,
   "metadata": {},
   "outputs": [],
   "source": [
    "%load_ext autoreload\n",
    "%aimport Weighted_Hybrid\n",
    "%aimport hwk3_util\n",
    "%autoreload 2\n",
    "\n",
    "from Weighted_Hybrid import WeightedHybrid\n",
    "from hwk3_util import my_clone\n",
    "from Fallbacks import UserUserFallback, ItemItemFallback"
   ]
  },
  {
   "cell_type": "markdown",
   "metadata": {},
   "source": [
    "## 1. Implement Weighted Hybrid"
   ]
  },
  {
   "cell_type": "code",
   "execution_count": 4,
   "metadata": {},
   "outputs": [],
   "source": [
    "import unittest\n",
    "from test_weighted import test_WeightedHybrid\n",
    "\n",
    "%aimport test_weighted"
   ]
  },
  {
   "cell_type": "code",
   "execution_count": 5,
   "metadata": {},
   "outputs": [
    {
     "name": "stderr",
     "output_type": "stream",
     "text": [
      "test_more_components (test_weighted.test_WeightedHybrid) ... ok\n",
      "test_normalize_weights (test_weighted.test_WeightedHybrid) ... ok\n",
      "test_predict (test_weighted.test_WeightedHybrid) ... ok\n",
      "\n",
      "----------------------------------------------------------------------\n",
      "Ran 3 tests in 6.781s\n",
      "\n",
      "OK\n"
     ]
    },
    {
     "data": {
      "text/plain": [
       "<unittest.runner.TextTestResult run=3 errors=0 failures=0>"
      ]
     },
     "execution_count": 5,
     "metadata": {},
     "output_type": "execute_result"
    }
   ],
   "source": [
    "suite = unittest.TestLoader().loadTestsFromTestCase(test_weighted.test_WeightedHybrid)\n",
    "runner = unittest.TextTestRunner(verbosity=2)\n",
    "runner.run(suite)"
   ]
  },
  {
   "cell_type": "markdown",
   "metadata": {},
   "source": [
    "## Evaluation with RMSE"
   ]
  },
  {
   "cell_type": "markdown",
   "metadata": {},
   "source": [
    "### Load ratings data"
   ]
  },
  {
   "cell_type": "code",
   "execution_count": 7,
   "metadata": {},
   "outputs": [],
   "source": [
    "ratings = pd.read_csv('ratings.csv', encoding='Latin 1')\n",
    "ratings.columns = ['user', 'item', 'rating', 'timestamp']"
   ]
  },
  {
   "cell_type": "markdown",
   "metadata": {},
   "source": [
    "### Create algorithms\n",
    "Neighbors = 20, Min neighbors = 5"
   ]
  },
  {
   "cell_type": "code",
   "execution_count": 8,
   "metadata": {},
   "outputs": [],
   "source": [
    "user_comp = UserUserFallback(20, min_nbrs=5)\n",
    "item_comp = ItemItemFallback(20, min_nbrs=5)"
   ]
  },
  {
   "cell_type": "markdown",
   "metadata": {},
   "source": [
    "### Weighted hybrid \n",
    "UserUser 0.8 ItemItem 0.2"
   ]
  },
  {
   "cell_type": "code",
   "execution_count": 9,
   "metadata": {},
   "outputs": [],
   "source": [
    "weighted_hybrid = WeightedHybrid([user_comp, item_comp], [0.8,0.2])"
   ]
  },
  {
   "cell_type": "markdown",
   "metadata": {},
   "source": [
    "### A helper function for doing the evaluation\n",
    "Makes repeated calls to `batch.predict` easier to perform.\n",
    "\n",
    "(Adapted from LKPy \"Getting started\" documentation.)"
   ]
  },
  {
   "cell_type": "code",
   "execution_count": 10,
   "metadata": {},
   "outputs": [],
   "source": [
    "def eval_preds(aname, fold, algo, train, test):\n",
    "    fittable = my_clone(algo)\n",
    "    fittable.fit(train)\n",
    "    \n",
    "    preds = batch.predict(fittable, test)\n",
    "    preds['Algorithm'] = aname\n",
    "    preds['Fold'] = fold\n",
    "    return preds"
   ]
  },
  {
   "cell_type": "markdown",
   "metadata": {},
   "source": [
    "### Perform 5-fold cross-validation\n",
    "Note that all the happens here is that predictions are generated. Evaluation is later."
   ]
  },
  {
   "cell_type": "code",
   "execution_count": 11,
   "metadata": {},
   "outputs": [
    {
     "name": "stdout",
     "output_type": "stream",
     "text": [
      "Completed fold 0\n",
      "Completed fold 1\n",
      "Completed fold 2\n",
      "Completed fold 3\n",
      "Completed fold 4\n"
     ]
    }
   ],
   "source": [
    "np.random.seed(20190303)\n",
    "\n",
    "all_preds = []\n",
    "fold = 0\n",
    "# HOMEWORK 3 TODO\n",
    "# Implement 5-fold cross-validation with user-based splitting\n",
    "# Call eval_preds for each algorithm, each fold\n",
    "# Results should be appended to all_preds\n",
    "for train, test in xf.partition_users(ratings[['user', 'item', 'rating']], 5, xf.SampleFrac(0.2)):\n",
    "    print(\"Completed fold {}\".format(fold))\n",
    "    all_preds.append(eval_preds('UserComponent', fold, user_comp, train, test))\n",
    "    all_preds.append(eval_preds('ItemComponent', fold, item_comp, train, test))\n",
    "    all_preds.append(eval_preds('WeightedHybrid', fold, weighted_hybrid, train, test))\n",
    "    fold += 1"
   ]
  },
  {
   "cell_type": "markdown",
   "metadata": {},
   "source": [
    "### Combine all results into one data frame"
   ]
  },
  {
   "cell_type": "code",
   "execution_count": 12,
   "metadata": {},
   "outputs": [
    {
     "data": {
      "text/html": [
       "<div>\n",
       "<style scoped>\n",
       "    .dataframe tbody tr th:only-of-type {\n",
       "        vertical-align: middle;\n",
       "    }\n",
       "\n",
       "    .dataframe tbody tr th {\n",
       "        vertical-align: top;\n",
       "    }\n",
       "\n",
       "    .dataframe thead th {\n",
       "        text-align: right;\n",
       "    }\n",
       "</style>\n",
       "<table border=\"1\" class=\"dataframe\">\n",
       "  <thead>\n",
       "    <tr style=\"text-align: right;\">\n",
       "      <th></th>\n",
       "      <th>user</th>\n",
       "      <th>item</th>\n",
       "      <th>rating</th>\n",
       "      <th>prediction</th>\n",
       "      <th>Algorithm</th>\n",
       "      <th>Fold</th>\n",
       "    </tr>\n",
       "  </thead>\n",
       "  <tbody>\n",
       "    <tr>\n",
       "      <th>0</th>\n",
       "      <td>975</td>\n",
       "      <td>112852</td>\n",
       "      <td>4.0</td>\n",
       "      <td>3.930192</td>\n",
       "      <td>UserComponent</td>\n",
       "      <td>0</td>\n",
       "    </tr>\n",
       "    <tr>\n",
       "      <th>1</th>\n",
       "      <td>975</td>\n",
       "      <td>4011</td>\n",
       "      <td>4.0</td>\n",
       "      <td>4.083562</td>\n",
       "      <td>UserComponent</td>\n",
       "      <td>0</td>\n",
       "    </tr>\n",
       "    <tr>\n",
       "      <th>2</th>\n",
       "      <td>975</td>\n",
       "      <td>1732</td>\n",
       "      <td>4.5</td>\n",
       "      <td>4.312282</td>\n",
       "      <td>UserComponent</td>\n",
       "      <td>0</td>\n",
       "    </tr>\n",
       "    <tr>\n",
       "      <th>3</th>\n",
       "      <td>975</td>\n",
       "      <td>5952</td>\n",
       "      <td>3.5</td>\n",
       "      <td>4.038854</td>\n",
       "      <td>UserComponent</td>\n",
       "      <td>0</td>\n",
       "    </tr>\n",
       "    <tr>\n",
       "      <th>4</th>\n",
       "      <td>975</td>\n",
       "      <td>91658</td>\n",
       "      <td>3.5</td>\n",
       "      <td>3.986704</td>\n",
       "      <td>UserComponent</td>\n",
       "      <td>0</td>\n",
       "    </tr>\n",
       "  </tbody>\n",
       "</table>\n",
       "</div>"
      ],
      "text/plain": [
       "   user    item  rating  prediction      Algorithm  Fold\n",
       "0   975  112852     4.0    3.930192  UserComponent     0\n",
       "1   975    4011     4.0    4.083562  UserComponent     0\n",
       "2   975    1732     4.5    4.312282  UserComponent     0\n",
       "3   975    5952     3.5    4.038854  UserComponent     0\n",
       "4   975   91658     3.5    3.986704  UserComponent     0"
      ]
     },
     "execution_count": 12,
     "metadata": {},
     "output_type": "execute_result"
    }
   ],
   "source": [
    "all_preds = pd.concat(all_preds, ignore_index=True)\n",
    "all_preds.head()"
   ]
  },
  {
   "cell_type": "markdown",
   "metadata": {},
   "source": [
    "### Compute results\n",
    "- Create an RMSE for each fold of each algorithm\n",
    "- Compute the mean and standard deviation of over the folds for each algorithm\n",
    "\n",
    "No loops. 2-3 or three lines of code. `groupby`, `apply`, and `agg` are your friends. "
   ]
  },
  {
   "cell_type": "code",
   "execution_count": 41,
   "metadata": {},
   "outputs": [
    {
     "data": {
      "text/plain": [
       "Algorithm       Fold\n",
       "ItemComponent   0       0.757571\n",
       "                1       0.743245\n",
       "                2       0.738638\n",
       "                3       0.803013\n",
       "                4       0.728331\n",
       "UserComponent   0       0.793968\n",
       "                1       0.777079\n",
       "                2       0.770060\n",
       "                3       0.831445\n",
       "                4       0.760025\n",
       "WeightedHybrid  0       0.779125\n",
       "                1       0.762325\n",
       "                2       0.756490\n",
       "                3       0.818690\n",
       "                4       0.745567\n",
       "dtype: float64"
      ]
     },
     "execution_count": 41,
     "metadata": {},
     "output_type": "execute_result"
    }
   ],
   "source": [
    "# Compute RMSE for each fold of each algorithm\n",
    "A = all_preds.groupby(['Algorithm', 'Fold']).apply(lambda df: rmse(df.rating, df.prediction)) # .reset_index()\n",
    "# A.columns = ['Algorithm', 'Fold', 'RMSE']\n",
    "A"
   ]
  },
  {
   "cell_type": "code",
   "execution_count": 78,
   "metadata": {},
   "outputs": [],
   "source": [
    "# Compute the mean and standard deviation over the folds of each algorithm\n",
    "B = A.groupby(['Algorithm']).agg([np.mean, np.std])"
   ]
  },
  {
   "cell_type": "markdown",
   "metadata": {},
   "source": [
    "### Plot the experimental results\n",
    "Bar plot with error bars. Don't forget to label the y axis."
   ]
  },
  {
   "cell_type": "code",
   "execution_count": 79,
   "metadata": {},
   "outputs": [
    {
     "data": {
      "image/png": "[encoded data removed]",
      "text/plain": [
       "<matplotlib.figure.Figure at 0x1179b8860>"
      ]
     },
     "metadata": {},
     "output_type": "display_data"
    }
   ],
   "source": [
    "ax = means.plot.bar(x=B.index, y=B['mean'], yerr=B['std'])\n",
    "\n",
    "plt.ylabel('RMSE')\n",
    "\n",
    "plt.show()"
   ]
  },
  {
   "cell_type": "markdown",
   "metadata": {},
   "source": [
    "## Evaluation with recall / precision"
   ]
  },
  {
   "cell_type": "markdown",
   "metadata": {},
   "source": [
    "### Helper function\n",
    "Repeated calls to `batch.recommend`. Generate 10 recommendations."
   ]
  },
  {
   "cell_type": "code",
   "execution_count": 80,
   "metadata": {},
   "outputs": [],
   "source": [
    "def eval_recs(aname, fold, algo, train, test):\n",
    "    fittable = my_clone(algo)\n",
    "    fittable = Recommender.adapt(fittable)\n",
    "    fittable.fit(train)\n",
    "    \n",
    "    users = test.user.unique()\n",
    "    recs = batch.recommend(fittable, users, 10)\n",
    "    # add the algorithm\n",
    "    recs['Algorithm'] = aname\n",
    "    recs['Fold'] = fold\n",
    "    return recs\n"
   ]
  },
  {
   "cell_type": "markdown",
   "metadata": {},
   "source": [
    "### Perform 5-fold cross-validation"
   ]
  },
  {
   "cell_type": "code",
   "execution_count": 81,
   "metadata": {},
   "outputs": [
    {
     "name": "stdout",
     "output_type": "stream",
     "text": [
      "Completed fold 0\n",
      "Completed fold 1\n",
      "Completed fold 2\n",
      "Completed fold 3\n",
      "Completed fold 4\n"
     ]
    }
   ],
   "source": [
    "np.random.seed(20190302)\n",
    "\n",
    "all_recs = []\n",
    "test_data = []\n",
    "fold = 0\n",
    "for train, test in xf.partition_users(ratings[['user', 'item', 'rating']], 5, xf.SampleFrac(0.2)):\n",
    "    # HOMEWORK 3 TODO\n",
    "    # Implement 5-fold cross-validation with user-based splitting\n",
    "    # Call eval_recs for each algorithm, each fold\n",
    "    # Results should be appended to all_recs\n",
    "    # Test data should be a list\n",
    "    test_data.append(test)\n",
    "    all_recs.append(eval_recs('UserUser', fold, user_comp, train, test))\n",
    "    all_recs.append(eval_recs('ItemItem', fold, item_comp, train, test))\n",
    "    all_recs.append(eval_recs('WeightHybrid', fold, weighted_hybrid, train, test))\n",
    "    print(\"Completed fold {}\".format(fold))\n",
    "    fold += 1"
   ]
  },
  {
   "cell_type": "markdown",
   "metadata": {},
   "source": [
    "### Combine results into one data frame"
   ]
  },
  {
   "cell_type": "code",
   "execution_count": 82,
   "metadata": {},
   "outputs": [
    {
     "data": {
      "text/html": [
       "<div>\n",
       "<style scoped>\n",
       "    .dataframe tbody tr th:only-of-type {\n",
       "        vertical-align: middle;\n",
       "    }\n",
       "\n",
       "    .dataframe tbody tr th {\n",
       "        vertical-align: top;\n",
       "    }\n",
       "\n",
       "    .dataframe thead th {\n",
       "        text-align: right;\n",
       "    }\n",
       "</style>\n",
       "<table border=\"1\" class=\"dataframe\">\n",
       "  <thead>\n",
       "    <tr style=\"text-align: right;\">\n",
       "      <th></th>\n",
       "      <th>item</th>\n",
       "      <th>score</th>\n",
       "      <th>user</th>\n",
       "      <th>rank</th>\n",
       "      <th>Algorithm</th>\n",
       "      <th>Fold</th>\n",
       "    </tr>\n",
       "  </thead>\n",
       "  <tbody>\n",
       "    <tr>\n",
       "      <th>0</th>\n",
       "      <td>296</td>\n",
       "      <td>4.708202</td>\n",
       "      <td>359</td>\n",
       "      <td>1</td>\n",
       "      <td>UserUser</td>\n",
       "      <td>0</td>\n",
       "    </tr>\n",
       "    <tr>\n",
       "      <th>1</th>\n",
       "      <td>7361</td>\n",
       "      <td>4.632040</td>\n",
       "      <td>359</td>\n",
       "      <td>2</td>\n",
       "      <td>UserUser</td>\n",
       "      <td>0</td>\n",
       "    </tr>\n",
       "    <tr>\n",
       "      <th>2</th>\n",
       "      <td>589</td>\n",
       "      <td>4.626236</td>\n",
       "      <td>359</td>\n",
       "      <td>3</td>\n",
       "      <td>UserUser</td>\n",
       "      <td>0</td>\n",
       "    </tr>\n",
       "    <tr>\n",
       "      <th>3</th>\n",
       "      <td>4973</td>\n",
       "      <td>4.620123</td>\n",
       "      <td>359</td>\n",
       "      <td>4</td>\n",
       "      <td>UserUser</td>\n",
       "      <td>0</td>\n",
       "    </tr>\n",
       "    <tr>\n",
       "      <th>4</th>\n",
       "      <td>1193</td>\n",
       "      <td>4.590232</td>\n",
       "      <td>359</td>\n",
       "      <td>5</td>\n",
       "      <td>UserUser</td>\n",
       "      <td>0</td>\n",
       "    </tr>\n",
       "  </tbody>\n",
       "</table>\n",
       "</div>"
      ],
      "text/plain": [
       "   item     score  user  rank Algorithm  Fold\n",
       "0   296  4.708202   359     1  UserUser     0\n",
       "1  7361  4.632040   359     2  UserUser     0\n",
       "2   589  4.626236   359     3  UserUser     0\n",
       "3  4973  4.620123   359     4  UserUser     0\n",
       "4  1193  4.590232   359     5  UserUser     0"
      ]
     },
     "execution_count": 82,
     "metadata": {},
     "output_type": "execute_result"
    }
   ],
   "source": [
    "all_recs = pd.concat(all_recs, ignore_index=True)\n",
    "all_recs.head()"
   ]
  },
  {
   "cell_type": "markdown",
   "metadata": {},
   "source": [
    "### Combine test data into a data frame\n",
    "Needed by the list-oriented evaluation metrics"
   ]
  },
  {
   "cell_type": "code",
   "execution_count": 83,
   "metadata": {},
   "outputs": [
    {
     "data": {
      "text/html": [
       "<div>\n",
       "<style scoped>\n",
       "    .dataframe tbody tr th:only-of-type {\n",
       "        vertical-align: middle;\n",
       "    }\n",
       "\n",
       "    .dataframe tbody tr th {\n",
       "        vertical-align: top;\n",
       "    }\n",
       "\n",
       "    .dataframe thead th {\n",
       "        text-align: right;\n",
       "    }\n",
       "</style>\n",
       "<table border=\"1\" class=\"dataframe\">\n",
       "  <thead>\n",
       "    <tr style=\"text-align: right;\">\n",
       "      <th></th>\n",
       "      <th>user</th>\n",
       "      <th>item</th>\n",
       "      <th>rating</th>\n",
       "    </tr>\n",
       "  </thead>\n",
       "  <tbody>\n",
       "    <tr>\n",
       "      <th>0</th>\n",
       "      <td>359</td>\n",
       "      <td>4144</td>\n",
       "      <td>3.0</td>\n",
       "    </tr>\n",
       "    <tr>\n",
       "      <th>1</th>\n",
       "      <td>359</td>\n",
       "      <td>3061</td>\n",
       "      <td>4.5</td>\n",
       "    </tr>\n",
       "    <tr>\n",
       "      <th>2</th>\n",
       "      <td>359</td>\n",
       "      <td>800</td>\n",
       "      <td>4.0</td>\n",
       "    </tr>\n",
       "    <tr>\n",
       "      <th>3</th>\n",
       "      <td>359</td>\n",
       "      <td>8985</td>\n",
       "      <td>4.0</td>\n",
       "    </tr>\n",
       "    <tr>\n",
       "      <th>4</th>\n",
       "      <td>359</td>\n",
       "      <td>48043</td>\n",
       "      <td>4.0</td>\n",
       "    </tr>\n",
       "  </tbody>\n",
       "</table>\n",
       "</div>"
      ],
      "text/plain": [
       "   user   item  rating\n",
       "0   359   4144     3.0\n",
       "1   359   3061     4.5\n",
       "2   359    800     4.0\n",
       "3   359   8985     4.0\n",
       "4   359  48043     4.0"
      ]
     },
     "execution_count": 83,
     "metadata": {},
     "output_type": "execute_result"
    }
   ],
   "source": [
    "test_data = pd.concat(test_data, ignore_index=True)\n",
    "test_data.head()"
   ]
  },
  {
   "cell_type": "markdown",
   "metadata": {},
   "source": [
    "### Computing recall and precision\n",
    "\n",
    "This step is a bit difficult, and requires an understanding of how `RecListAnalysis` works. So, I supplied the first part of the cell. \n",
    "\n",
    "- Create the `RecListAnalysis` object\n",
    "- Compute the list metrics for each user\n",
    "- Average the users in each fold for each algorithm\n",
    "- Compute mean and standard deviation for the algorithm over the folds."
   ]
  },
  {
   "cell_type": "code",
   "execution_count": 104,
   "metadata": {},
   "outputs": [],
   "source": [
    "rla = topn.RecListAnalysis()"
   ]
  },
  {
   "cell_type": "code",
   "execution_count": 105,
   "metadata": {},
   "outputs": [
    {
     "data": {
      "text/html": [
       "<div>\n",
       "<style scoped>\n",
       "    .dataframe tbody tr th:only-of-type {\n",
       "        vertical-align: middle;\n",
       "    }\n",
       "\n",
       "    .dataframe tbody tr th {\n",
       "        vertical-align: top;\n",
       "    }\n",
       "\n",
       "    .dataframe thead th {\n",
       "        text-align: right;\n",
       "    }\n",
       "</style>\n",
       "<table border=\"1\" class=\"dataframe\">\n",
       "  <thead>\n",
       "    <tr style=\"text-align: right;\">\n",
       "      <th></th>\n",
       "      <th></th>\n",
       "      <th></th>\n",
       "      <th></th>\n",
       "      <th></th>\n",
       "      <th>precision</th>\n",
       "      <th>recall</th>\n",
       "    </tr>\n",
       "    <tr>\n",
       "      <th>Algorithm</th>\n",
       "      <th>Fold</th>\n",
       "      <th>user</th>\n",
       "      <th>Algorithm</th>\n",
       "      <th>Fold</th>\n",
       "      <th></th>\n",
       "      <th></th>\n",
       "    </tr>\n",
       "  </thead>\n",
       "  <tbody>\n",
       "    <tr>\n",
       "      <th rowspan=\"5\" valign=\"top\">ItemItem</th>\n",
       "      <th rowspan=\"5\" valign=\"top\">0</th>\n",
       "      <th>359</th>\n",
       "      <th>ItemItem</th>\n",
       "      <th>0</th>\n",
       "      <td>0.2</td>\n",
       "      <td>0.011976</td>\n",
       "    </tr>\n",
       "    <tr>\n",
       "      <th>1015</th>\n",
       "      <th>ItemItem</th>\n",
       "      <th>0</th>\n",
       "      <td>0.2</td>\n",
       "      <td>0.035714</td>\n",
       "    </tr>\n",
       "    <tr>\n",
       "      <th>1387</th>\n",
       "      <th>ItemItem</th>\n",
       "      <th>0</th>\n",
       "      <td>0.0</td>\n",
       "      <td>0.000000</td>\n",
       "    </tr>\n",
       "    <tr>\n",
       "      <th>2702</th>\n",
       "      <th>ItemItem</th>\n",
       "      <th>0</th>\n",
       "      <td>0.1</td>\n",
       "      <td>0.013889</td>\n",
       "    </tr>\n",
       "    <tr>\n",
       "      <th>4483</th>\n",
       "      <th>ItemItem</th>\n",
       "      <th>0</th>\n",
       "      <td>0.1</td>\n",
       "      <td>0.012658</td>\n",
       "    </tr>\n",
       "  </tbody>\n",
       "</table>\n",
       "</div>"
      ],
      "text/plain": [
       "                                    precision    recall\n",
       "Algorithm Fold user Algorithm Fold                     \n",
       "ItemItem  0    359  ItemItem  0           0.2  0.011976\n",
       "               1015 ItemItem  0           0.2  0.035714\n",
       "               1387 ItemItem  0           0.0  0.000000\n",
       "               2702 ItemItem  0           0.1  0.013889\n",
       "               4483 ItemItem  0           0.1  0.012658"
      ]
     },
     "execution_count": 105,
     "metadata": {},
     "output_type": "execute_result"
    }
   ],
   "source": [
    "rla.add_metric(topn.precision)\n",
    "rla.add_metric(topn.recall)\n",
    "\n",
    "# results = rla.compute(all_recs, test_data)\n",
    "# results.head()\n",
    "\n",
    "byuser_results = all_recs.groupby(['Algorithm','Fold']).apply(lambda df: rla.compute(df, test_data))\n",
    "byuser_results.head()"
   ]
  },
  {
   "cell_type": "markdown",
   "metadata": {},
   "source": [
    "### Show data frame with evaluation results"
   ]
  },
  {
   "cell_type": "code",
   "execution_count": 116,
   "metadata": {},
   "outputs": [
    {
     "data": {
      "text/html": [
       "<div>\n",
       "<style scoped>\n",
       "    .dataframe tbody tr th:only-of-type {\n",
       "        vertical-align: middle;\n",
       "    }\n",
       "\n",
       "    .dataframe tbody tr th {\n",
       "        vertical-align: top;\n",
       "    }\n",
       "\n",
       "    .dataframe thead tr th {\n",
       "        text-align: left;\n",
       "    }\n",
       "\n",
       "    .dataframe thead tr:last-of-type th {\n",
       "        text-align: right;\n",
       "    }\n",
       "</style>\n",
       "<table border=\"1\" class=\"dataframe\">\n",
       "  <thead>\n",
       "    <tr>\n",
       "      <th></th>\n",
       "      <th colspan=\"2\" halign=\"left\">precision</th>\n",
       "      <th colspan=\"2\" halign=\"left\">recall</th>\n",
       "    </tr>\n",
       "    <tr>\n",
       "      <th></th>\n",
       "      <th>mean</th>\n",
       "      <th>std</th>\n",
       "      <th>mean</th>\n",
       "      <th>std</th>\n",
       "    </tr>\n",
       "    <tr>\n",
       "      <th>Algorithm</th>\n",
       "      <th></th>\n",
       "      <th></th>\n",
       "      <th></th>\n",
       "      <th></th>\n",
       "    </tr>\n",
       "  </thead>\n",
       "  <tbody>\n",
       "    <tr>\n",
       "      <th>ItemItem</th>\n",
       "      <td>0.117996</td>\n",
       "      <td>0.010482</td>\n",
       "      <td>0.023114</td>\n",
       "      <td>0.004377</td>\n",
       "    </tr>\n",
       "    <tr>\n",
       "      <th>UserUser</th>\n",
       "      <td>0.165808</td>\n",
       "      <td>0.014868</td>\n",
       "      <td>0.029228</td>\n",
       "      <td>0.003639</td>\n",
       "    </tr>\n",
       "    <tr>\n",
       "      <th>WeightHybrid</th>\n",
       "      <td>0.170554</td>\n",
       "      <td>0.013584</td>\n",
       "      <td>0.030523</td>\n",
       "      <td>0.004012</td>\n",
       "    </tr>\n",
       "  </tbody>\n",
       "</table>\n",
       "</div>"
      ],
      "text/plain": [
       "             precision              recall          \n",
       "                  mean       std      mean       std\n",
       "Algorithm                                           \n",
       "ItemItem      0.117996  0.010482  0.023114  0.004377\n",
       "UserUser      0.165808  0.014868  0.029228  0.003639\n",
       "WeightHybrid  0.170554  0.013584  0.030523  0.004012"
      ]
     },
     "execution_count": 116,
     "metadata": {},
     "output_type": "execute_result"
    }
   ],
   "source": [
    "eval_fold_mean = byuser_results.groupby(['Algorithm', 'Fold']).mean()\n",
    "eval_algo = eval_fold_mean.groupby(['Algorithm']).agg([np.mean, np.std])\n",
    "eval_algo"
   ]
  },
  {
   "cell_type": "code",
   "execution_count": 122,
   "metadata": {},
   "outputs": [
    {
     "data": {
      "text/plain": [
       "['ItemItem', 'UserUser', 'WeightHybrid']"
      ]
     },
     "execution_count": 122,
     "metadata": {},
     "output_type": "execute_result"
    }
   ],
   "source": [
    "algos = [i for i in eval_algo.index]\n",
    "algos"
   ]
  },
  {
   "cell_type": "code",
   "execution_count": 123,
   "metadata": {},
   "outputs": [
    {
     "data": {
      "text/plain": [
       "[0.11799569834655199, 0.16580790428821085, 0.17055383788143577]"
      ]
     },
     "execution_count": 123,
     "metadata": {},
     "output_type": "execute_result"
    }
   ],
   "source": [
    "p_means = [p for p in eval_algo['precision']['mean']]\n",
    "p_means"
   ]
  },
  {
   "cell_type": "code",
   "execution_count": 124,
   "metadata": {},
   "outputs": [],
   "source": [
    "p_std = [s for s in eval_algo['precision']['std']]"
   ]
  },
  {
   "cell_type": "code",
   "execution_count": 125,
   "metadata": {},
   "outputs": [
    {
     "data": {
      "text/plain": [
       "[0.010481844296579888, 0.014868269292138053, 0.0135835672585339]"
      ]
     },
     "execution_count": 125,
     "metadata": {},
     "output_type": "execute_result"
    }
   ],
   "source": [
    "p_std"
   ]
  },
  {
   "cell_type": "markdown",
   "metadata": {},
   "source": [
    "### Bar plot of precision\n",
    "Similar to above with error bars."
   ]
  },
  {
   "cell_type": "code",
   "execution_count": 130,
   "metadata": {
    "scrolled": false
   },
   "outputs": [
    {
     "data": {
      "image/png": "[encoded data removed]",
      "text/plain": [
       "<matplotlib.figure.Figure at 0x11b7404a8>"
      ]
     },
     "metadata": {},
     "output_type": "display_data"
    }
   ],
   "source": [
    "plt.bar(algos, p_means, yerr=p_std)\n",
    "plt.ylabel('Precision')\n",
    "\n",
    "plt.show()"
   ]
  },
  {
   "cell_type": "markdown",
   "metadata": {},
   "source": [
    "### Bar plot of recall\n",
    "As above"
   ]
  },
  {
   "cell_type": "code",
   "execution_count": 131,
   "metadata": {},
   "outputs": [
    {
     "data": {
      "image/png": "[encoded data removed]",
      "text/plain": [
       "<matplotlib.figure.Figure at 0x11c14d630>"
      ]
     },
     "metadata": {},
     "output_type": "display_data"
    }
   ],
   "source": [
    "plt.bar(algos, [m for m in eval_algo['recall']['mean']], yerr=[s for s in eval_algo['recall']['std']])\n",
    "plt.ylabel('Recall')\n",
    "\n",
    "plt.show()"
   ]
  },
  {
   "cell_type": "markdown",
   "metadata": {},
   "source": [
    "### (Optional) Scatter plot of recall / precision\n",
    "See example"
   ]
  },
  {
   "cell_type": "code",
   "execution_count": null,
   "metadata": {},
   "outputs": [],
   "source": []
  },
  {
   "cell_type": "markdown",
   "metadata": {},
   "source": [
    "## INFO 5871 only\n",
    "In this section, you will attempt to use linear regression to learn optimal weights for the hybrid. The process is as follows:\n",
    "\n",
    "- Extract one of the five partitions from the cross-validation iterator. This will be used to learn the weights and then not used for evaluation.\n",
    "- Train the user-based and item-based algorithms on this partition.\n",
    "- Use `batch.predict` to compute predictions over the test data.\n",
    "- Construct a linear regression (`sklearn.linear_model` with `fit_intercept` equal to `False`) with the real test set ratings as the predicted variable and the predictions of the two algorithms as the independent variables.\n",
    "- Use the coefficients learned by this process to construct a new hybrid.\n",
    "- Use the remaining four folds of the data to do an evaluation, collecting both prediction values and recommendation lists.\n",
    "- Following the same methodology as above, produce plots (with error bars) of RMSE and nDCG.\n",
    "- Don't forget to answer the question at the end."
   ]
  },
  {
   "cell_type": "code",
   "execution_count": null,
   "metadata": {},
   "outputs": [],
   "source": [
    "from sklearn.linear_model import LinearRegression"
   ]
  },
  {
   "cell_type": "markdown",
   "metadata": {},
   "source": [
    "### Get one partition for training weights"
   ]
  },
  {
   "cell_type": "code",
   "execution_count": null,
   "metadata": {},
   "outputs": [],
   "source": []
  },
  {
   "cell_type": "code",
   "execution_count": null,
   "metadata": {},
   "outputs": [],
   "source": []
  },
  {
   "cell_type": "markdown",
   "metadata": {},
   "source": [
    "### Train and predict components on first partition"
   ]
  },
  {
   "cell_type": "code",
   "execution_count": null,
   "metadata": {},
   "outputs": [],
   "source": []
  },
  {
   "cell_type": "markdown",
   "metadata": {},
   "source": [
    "### Create numpy arrays of predictions and actual ratings"
   ]
  },
  {
   "cell_type": "code",
   "execution_count": null,
   "metadata": {},
   "outputs": [],
   "source": []
  },
  {
   "cell_type": "markdown",
   "metadata": {},
   "source": [
    "### Run linear regression\n",
    "fit_intercept = False"
   ]
  },
  {
   "cell_type": "code",
   "execution_count": null,
   "metadata": {},
   "outputs": [],
   "source": []
  },
  {
   "cell_type": "markdown",
   "metadata": {},
   "source": [
    "### Print regression coefficients"
   ]
  },
  {
   "cell_type": "code",
   "execution_count": null,
   "metadata": {},
   "outputs": [],
   "source": []
  },
  {
   "cell_type": "markdown",
   "metadata": {},
   "source": [
    "### Create hybrid with regression coefficients as weights"
   ]
  },
  {
   "cell_type": "code",
   "execution_count": null,
   "metadata": {},
   "outputs": [],
   "source": []
  },
  {
   "cell_type": "markdown",
   "metadata": {},
   "source": [
    "### Run experiment\n",
    "Do both prediction and recommendation experiments"
   ]
  },
  {
   "cell_type": "code",
   "execution_count": null,
   "metadata": {},
   "outputs": [],
   "source": []
  },
  {
   "cell_type": "markdown",
   "metadata": {},
   "source": [
    "### Compute RMSE results\n",
    "Average over the four folds"
   ]
  },
  {
   "cell_type": "code",
   "execution_count": null,
   "metadata": {},
   "outputs": [],
   "source": []
  },
  {
   "cell_type": "markdown",
   "metadata": {},
   "source": [
    "### Display RMSE bar plot with error bars"
   ]
  },
  {
   "cell_type": "code",
   "execution_count": null,
   "metadata": {},
   "outputs": [],
   "source": []
  },
  {
   "cell_type": "markdown",
   "metadata": {},
   "source": [
    "### Compute nDCG\n",
    "Average the users over each fold, then average the folds"
   ]
  },
  {
   "cell_type": "code",
   "execution_count": null,
   "metadata": {},
   "outputs": [],
   "source": []
  },
  {
   "cell_type": "markdown",
   "metadata": {},
   "source": [
    "### Display nDCG bar plot with error bars"
   ]
  },
  {
   "cell_type": "code",
   "execution_count": null,
   "metadata": {},
   "outputs": [],
   "source": []
  },
  {
   "cell_type": "markdown",
   "metadata": {},
   "source": [
    "### Question:\n",
    "The optimization procedue produces a hybrid that has a lower RMSE than either component. But that hybrid does not have the highest nDCG. Why did this happen? What must be true about the distribution of errors such that this hybrid does not produce the best ranking?"
   ]
  },
  {
   "cell_type": "code",
   "execution_count": null,
   "metadata": {},
   "outputs": [],
   "source": []
  }
 ],
 "metadata": {
  "kernelspec": {
   "display_name": "Python 3",
   "language": "python",
   "name": "python3"
  },
  "language_info": {
   "codemirror_mode": {
    "name": "ipython",
    "version": 3
   },
   "file_extension": ".py",
   "mimetype": "text/x-python",
   "name": "python",
   "nbconvert_exporter": "python",
   "pygments_lexer": "ipython3",
   "version": "3.6.4"
  }
 },
 "nbformat": 4,
 "nbformat_minor": 2
}
