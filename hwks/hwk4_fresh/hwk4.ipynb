{
 "cells": [
  {
   "cell_type": "markdown",
   "metadata": {},
   "source": [
    "# Homework 4 solution\n",
    "- INFO 4871 / 5871\n",
    "- Spring 2019\n",
    "- Professor Robin Burke\n",
    "- Edited by Juan Vargas-Murillo"
   ]
  },
  {
   "cell_type": "markdown",
   "metadata": {},
   "source": [
    "## Objective (all students)\n",
    "The object of this assignment is to gain familiarity with content-based recommendation algorithms. You will do this by implementing a simple hybrid recommender system and evaluating it relative to its components. I have provided the following:\n",
    "- An outline of the NaiveBayesRecommender class. \n",
    "- A test case for the NaiveBayesRecommender class\n",
    "\n",
    "You will first implement the NaiveBayesRecommender. It takes an item-feature table and produces a set of tables counting the user / feature / like (~like) combinations. \n",
    "\n",
    "Then you will use the algorithm to generate content-based recommendations for the MovieLens dataset using the \"genre\" values found in the movie table, and evaluate based on precision @ 10 compared to the item-item recommender."
   ]
  },
  {
   "cell_type": "code",
   "execution_count": 2,
   "metadata": {},
   "outputs": [],
   "source": [
    "import pandas as pd\n",
    "import matplotlib.pyplot as plt\n",
    "import numpy as np\n",
    "%matplotlib inline"
   ]
  },
  {
   "cell_type": "code",
   "execution_count": 3,
   "metadata": {},
   "outputs": [],
   "source": [
    "from lenskit import batch, topn, util\n",
    "from lenskit import crossfold as xf\n",
    "from lenskit.algorithms import Predictor, Recommender\n",
    "from lenskit.algorithms.item_knn import ItemItem\n"
   ]
  },
  {
   "cell_type": "markdown",
   "metadata": {},
   "source": [
    "## Import NaiveBayesRecommender\n",
    "Use autoimport to support development of the NaiveBayes code"
   ]
  },
  {
   "cell_type": "code",
   "execution_count": 4,
   "metadata": {},
   "outputs": [],
   "source": [
    "%load_ext autoreload\n",
    "%aimport naive_bayes\n",
    "%autoreload 2\n",
    "\n",
    "from naive_bayes import NaiveBayesRecommender"
   ]
  },
  {
   "cell_type": "code",
   "execution_count": 5,
   "metadata": {},
   "outputs": [],
   "source": [
    "import unittest\n",
    "from test_naive_bayes import test_NaiveBayes\n",
    "\n",
    "%aimport test_naive_bayes"
   ]
  },
  {
   "cell_type": "markdown",
   "metadata": {},
   "source": [
    "### Running unit tests"
   ]
  },
  {
   "cell_type": "code",
   "execution_count": 5,
   "metadata": {},
   "outputs": [
    {
     "name": "stderr",
     "output_type": "stream",
     "text": [
      "test_cond_prob (test_naive_bayes.test_NaiveBayes) ... ok\n",
      "test_cond_tables (test_naive_bayes.test_NaiveBayes) ... ok\n",
      "test_liked_prob (test_naive_bayes.test_NaiveBayes) ... ok\n",
      "test_liked_tables (test_naive_bayes.test_NaiveBayes) ... ok\n",
      "test_pred1 (test_naive_bayes.test_NaiveBayes) ... ok\n",
      "test_pred2 (test_naive_bayes.test_NaiveBayes) ... ok\n",
      "test_pred3 (test_naive_bayes.test_NaiveBayes) ... ok\n",
      "test_recommend (test_naive_bayes.test_NaiveBayes) ... ok\n",
      "test_reset (test_naive_bayes.test_NaiveBayes) ... ok\n",
      "test_zeros (test_naive_bayes.test_NaiveBayes) ... ok\n",
      "\n",
      "----------------------------------------------------------------------\n",
      "Ran 10 tests in 0.864s\n",
      "\n",
      "OK\n"
     ]
    },
    {
     "data": {
      "text/plain": [
       "<unittest.runner.TextTestResult run=10 errors=0 failures=0>"
      ]
     },
     "execution_count": 5,
     "metadata": {},
     "output_type": "execute_result"
    }
   ],
   "source": [
    "suite = unittest.TestLoader().loadTestsFromTestCase(test_naive_bayes.test_NaiveBayes)\n",
    "runner = unittest.TextTestRunner(verbosity=2)\n",
    "runner.run(suite)"
   ]
  },
  {
   "cell_type": "markdown",
   "metadata": {},
   "source": [
    "## Evaluation\n",
    "Load ratings"
   ]
  },
  {
   "cell_type": "code",
   "execution_count": 7,
   "metadata": {},
   "outputs": [],
   "source": [
    "ratings = pd.read_csv('ml_ratings.csv', encoding='Latin 1')\n",
    "ratings.columns = ['user', 'item', 'rating', 'timestamp']"
   ]
  },
  {
   "cell_type": "code",
   "execution_count": 8,
   "metadata": {},
   "outputs": [
    {
     "data": {
      "text/html": [
       "<div>\n",
       "<style scoped>\n",
       "    .dataframe tbody tr th:only-of-type {\n",
       "        vertical-align: middle;\n",
       "    }\n",
       "\n",
       "    .dataframe tbody tr th {\n",
       "        vertical-align: top;\n",
       "    }\n",
       "\n",
       "    .dataframe thead th {\n",
       "        text-align: right;\n",
       "    }\n",
       "</style>\n",
       "<table border=\"1\" class=\"dataframe\">\n",
       "  <thead>\n",
       "    <tr style=\"text-align: right;\">\n",
       "      <th></th>\n",
       "      <th>user</th>\n",
       "      <th>item</th>\n",
       "      <th>rating</th>\n",
       "      <th>timestamp</th>\n",
       "    </tr>\n",
       "  </thead>\n",
       "  <tbody>\n",
       "    <tr>\n",
       "      <th>0</th>\n",
       "      <td>12882</td>\n",
       "      <td>1</td>\n",
       "      <td>4.0</td>\n",
       "      <td>1147195252</td>\n",
       "    </tr>\n",
       "    <tr>\n",
       "      <th>1</th>\n",
       "      <td>12882</td>\n",
       "      <td>32</td>\n",
       "      <td>3.5</td>\n",
       "      <td>1147195307</td>\n",
       "    </tr>\n",
       "    <tr>\n",
       "      <th>2</th>\n",
       "      <td>12882</td>\n",
       "      <td>47</td>\n",
       "      <td>5.0</td>\n",
       "      <td>1147195343</td>\n",
       "    </tr>\n",
       "    <tr>\n",
       "      <th>3</th>\n",
       "      <td>12882</td>\n",
       "      <td>50</td>\n",
       "      <td>5.0</td>\n",
       "      <td>1147185499</td>\n",
       "    </tr>\n",
       "    <tr>\n",
       "      <th>4</th>\n",
       "      <td>12882</td>\n",
       "      <td>110</td>\n",
       "      <td>4.5</td>\n",
       "      <td>1147195239</td>\n",
       "    </tr>\n",
       "  </tbody>\n",
       "</table>\n",
       "</div>"
      ],
      "text/plain": [
       "    user  item  rating   timestamp\n",
       "0  12882     1     4.0  1147195252\n",
       "1  12882    32     3.5  1147195307\n",
       "2  12882    47     5.0  1147195343\n",
       "3  12882    50     5.0  1147185499\n",
       "4  12882   110     4.5  1147195239"
      ]
     },
     "execution_count": 8,
     "metadata": {},
     "output_type": "execute_result"
    }
   ],
   "source": [
    "ratings.head()"
   ]
  },
  {
   "cell_type": "code",
   "execution_count": 9,
   "metadata": {},
   "outputs": [
    {
     "data": {
      "text/plain": [
       "264505"
      ]
     },
     "execution_count": 9,
     "metadata": {},
     "output_type": "execute_result"
    }
   ],
   "source": [
    "len(ratings)"
   ]
  },
  {
   "cell_type": "code",
   "execution_count": 10,
   "metadata": {},
   "outputs": [
    {
     "data": {
      "text/plain": [
       "array([ 12882,    320, 121987,  62046,  18127,  17318, 103754,  69519,\n",
       "       124823, 115611,   8932,  48821,  54114,   9745,  65155,  68702,\n",
       "       108195, 137209, 119330,  86784, 137609, 120067, 108922,    316,\n",
       "        67608, 100277,   5268,  33173,  64100,  37091,  64150,  88266,\n",
       "        35823, 108159,  82715,  68836,  14833,  45371, 124078,  67615,\n",
       "        53113,  30631, 132295, 125171,  26674,  84948,  45854,  40071,\n",
       "        92430,  32215,  31476, 102549,  69498,   9991,  53930, 132229,\n",
       "        22245,  11337,  21401,  46645, 103872, 119309, 131835,  43354,\n",
       "        36624, 104037, 137805,  57387,  40652,  59163, 125889, 128111,\n",
       "        18204,  93619,  41518, 130589, 124425,  28340, 113540,  10164,\n",
       "        16559,  77512,  57937,  15415,  41557, 131439,  47150,  13700,\n",
       "        11571,  79846,  92861, 102750,  49642, 117861, 136455,  12778,\n",
       "        16337,   3665,  91973,  86449,  87075, 115364, 125207, 125984,\n",
       "         4931,  58802,   7723,  92106,  62732,   3029, 109970,  74730,\n",
       "        51549,  17039,  32386,  62805, 128426,  61305, 100540,  25645,\n",
       "        59812,  41703, 126249,  38605,  93347,  79607, 127453, 129008,\n",
       "        63295,  35553, 100728,  83631,  10387,  57474, 111416,  65255,\n",
       "        28159,  43618,  92409,  96936,  47566, 137227, 130671, 114335,\n",
       "        79601,  14382, 105059,  91428, 138176, 138200,  75001,  34156,\n",
       "       101004,  46153,  35246,  20408, 120308,  47573,  34587,  36724,\n",
       "         1835,  15479,  31362, 121052,  48098, 137446,  71052,  76630,\n",
       "        53859,  33871,  99429,  94883,  97384, 130819, 107087,  52208,\n",
       "        24802,  91969,  95552,  33860,    975,   1935,  34739,  56392,\n",
       "         9050, 128236,  53819,   5063, 116420,  56246, 124683,  83182,\n",
       "       137559,  18877,  28655,  34239,  94175, 102242,  29474,  80063,\n",
       "       101379,  94462,  26932, 125288, 120729, 106537,  87042,  88857,\n",
       "       104529,   4215,  99471,  42290,  51255,  42124,  14492,  14328,\n",
       "        41486, 117905, 122693,  85242,  39714,  11843, 124288,  72971,\n",
       "       121303,  74849,  46392, 125084,  45015,  41613,  98541,  50283,\n",
       "        42015,  95147,  48512,  16883,  95708,  55593, 120941, 104508,\n",
       "        26022,  45252,  70939,  36229, 121954,  64986,  34760,  95283,\n",
       "        32234, 112334,  70835,  68037,  65536,  72832,  89321, 106236,\n",
       "       109347,  36727,  83553,   3915,  16126,  41020, 117144,  25268,\n",
       "        12569, 105841,  57916,  97072, 104397,  38957, 129005,  58346,\n",
       "       109692,  42944, 102679,  61755,  38187,   4347,  10573,  23638,\n",
       "        70337,  36665,  35259,  49830,  98278, 135418,  98781, 101785,\n",
       "          359,  55679,  83416, 109177, 132470,  31921,  76008, 117918,\n",
       "        50019, 103667,  81114,  81574,  96482, 121612, 113940, 111206,\n",
       "        83556,  10055, 124936,  76695,  68594, 105214,  63200, 102386,\n",
       "        72766,  24884,  97953,   5475,  56222,  27142,  57171, 133811,\n",
       "       134964,  54989, 127890,   8527,  26480, 101952,  13952, 119197,\n",
       "        75893,  45153,  83479,  43068, 112948,   4629, 134181,  69335,\n",
       "       104732,  94333,  34664,  19178,  48838,  17630,   2945,  70740,\n",
       "        11343,  97163,  18634,  84598,  88932,  31273,  41941,  73746,\n",
       "        35050,  19517,  24200, 131630,  50898,   8335,  22377,  66281,\n",
       "        93203,  65874,  97881,  27484,  43829,  64655,  22822,  13927,\n",
       "        38052,  12288, 117100,  67683, 118304,  63551,  53023,  42053,\n",
       "        64365,  43649, 120572,  60349,  49455,  18758, 128079,  27242,\n",
       "       128480,  96557,  65648,  66362,  81783,  66455,  83644,  85617,\n",
       "        66092,  79531,  12255,  25411,  96320,  75754, 132595, 128329,\n",
       "       124449,  90462, 136037,  19414, 101921,  65670,  14644,  90216,\n",
       "       126097, 103286,  86592, 120320,  72633,  98741,  13665, 124454,\n",
       "        95524,  46093, 117493,  59424, 108373,  54437,  35983, 115852,\n",
       "        63902,   6937,   2024,  26008,  68874,  84752,  42367, 131616,\n",
       "       107992, 125012, 128590,  42096, 134521,  45811,  73445,  41244,\n",
       "        38875,  96985, 124849, 127536,  99093,  55479,  30838,  26172,\n",
       "        80585,  98880,  33003, 113673,  86309,  98644,  24389,  96864,\n",
       "        83697,  96610,  47414, 131331,  57742,   3076,  68205,  86156,\n",
       "        27474,  85518,  12930, 127647,  53007,  59527,   2702,  28176,\n",
       "         5611,  62505, 123707, 102025, 117007,  16539, 107991,  21050,\n",
       "        35522,  49531,  12014,  92882, 124998, 124102,  86589,  40768,\n",
       "       108010, 122841, 114316,  12999,  13814, 134557,   1738,  76612,\n",
       "        93623,  73639,  44086,  18675, 131351,  93705,  58166,  12947,\n",
       "        11513,  39250,  79107,  92814,  77016,   2248, 101137,  70905,\n",
       "        93710,  81998, 116220,   3569, 119625,  56308,  89527,  13340,\n",
       "        91346,  96370, 134627, 134401,    910,  74743,  53413, 104887,\n",
       "       122710, 113847,  69374,  27735,  44400,  82202,  78501, 138072,\n",
       "        17022,  21280,  96977,  42660, 104393,  57242,  12649,  85824,\n",
       "         4483,  68905, 119522,  45669,  82472,  89988,  27731, 110773,\n",
       "       106512,  23171,  13215,  43116,  61276, 103927, 129869, 126292,\n",
       "       104958, 113518,  21860,  21391,  63615,   5450,  12721, 113806,\n",
       "       120782, 111841, 117258,  39271,  30516,  31392,  80285,  22074,\n",
       "        49806,  55704, 129498,  52056, 109429,   7541, 120479,  51460,\n",
       "        44194,  45120,  17709,  71362,  97780,  98792,  73947,  18192,\n",
       "       108285,  85030,  84549,  49666, 132578,  53834, 105455,  22363,\n",
       "        74546,  60971, 134316,  27838,  80070,  11406,  24112, 130446,\n",
       "        45461,  54643, 115679, 134196,  40618,  85391,  16581, 118482,\n",
       "       121290,  69256,  23852, 116708,  88455,  59269,  29631,   1588,\n",
       "         2847,  13920,  27579,  74182,  58265,  76164, 120907,  78497,\n",
       "        46403, 119746, 102668, 108442,  73773,  56574,  97961,  93266,\n",
       "        60016,  19560,  79364,  45537,  74472,  46809, 121386,  55429,\n",
       "        57969,  78908,  86485, 134525, 111036,  56889,  66756,  54805,\n",
       "       116550, 103582,  43604, 107672,  14947, 107020,  56478,  89721,\n",
       "        62314,  63018,  75422,  83360, 119134,  87502,  19343, 100240,\n",
       "        67026,  31321,  61400, 133047,  16472,  38655, 104500, 114499,\n",
       "        73680,  75195,  89617, 128045,  66402, 114448,  83507,  80080,\n",
       "        67352,  97436,  31444,  81435, 129078,  91478,  48410, 135092,\n",
       "        99477,  72229,   6116,  35613,  22352,  78774, 130955,  45476,\n",
       "        17278,  75438, 128287,  47953,   1447,  13565, 127683,  80946,\n",
       "        95290,  71680, 109550,  53407,  82647,  90453,  97195,  52520,\n",
       "       114601,  24386,  78362, 114078,  79401, 136856, 110148, 103076,\n",
       "       126912,  18115,  27898,  42399,  89274,  86783,  19114,  35227,\n",
       "        11081,  71825, 137118, 111494,  86204, 136015,  22338,  90145,\n",
       "        88928,  82880,  53877,  88394,  80874, 135223,   1387, 130715,\n",
       "        76284,    370,   9263,  24797, 119501,  83891,  78917,  23433,\n",
       "        22483,  19800,  62716,  36628,  44459,  53578,  21058,  47866,\n",
       "        73132,  45182, 102853,  20028,  52004, 132914, 112736, 132187,\n",
       "       112217,  39061,   6988,  16766, 127138, 102532,  27365,  88608,\n",
       "        26222,  57866,  27456,  17194,  36072,  60710,  21413, 131620,\n",
       "       128263, 130827,  23428,  10514,  41240, 134279,  70282,  18390,\n",
       "       113645, 111827,  23068, 124448,   1015, 121403, 124981,  53680,\n",
       "        60729,  42245,  51539, 109734,  68558,  67584, 103816, 109009,\n",
       "        58579,  32785,  96296,  38256,  98494,  88738,   2988,  26867,\n",
       "        86768,  57147,  15324,  45928,  38159, 130517, 128224,  43599,\n",
       "        39214,  74248, 118067,   7880,  60022,  52762,  12271, 102118,\n",
       "        14437,  85249,  94676,  58612,  32780,  28090,  45619,  29115,\n",
       "        34494,  49129, 134156, 123297, 107711,   1741,  20530,  52437,\n",
       "        70201,  26855, 131910,   9197, 110507,  90097])"
      ]
     },
     "execution_count": 10,
     "metadata": {},
     "output_type": "execute_result"
    }
   ],
   "source": [
    "ratings.user.unique()"
   ]
  },
  {
   "cell_type": "code",
   "execution_count": 13,
   "metadata": {},
   "outputs": [
    {
     "data": {
      "text/plain": [
       "2500"
      ]
     },
     "execution_count": 13,
     "metadata": {},
     "output_type": "execute_result"
    }
   ],
   "source": [
    "len(movies)"
   ]
  },
  {
   "cell_type": "markdown",
   "metadata": {},
   "source": [
    "Load movie information"
   ]
  },
  {
   "cell_type": "code",
   "execution_count": 12,
   "metadata": {},
   "outputs": [
    {
     "data": {
      "text/html": [
       "<div>\n",
       "<style scoped>\n",
       "    .dataframe tbody tr th:only-of-type {\n",
       "        vertical-align: middle;\n",
       "    }\n",
       "\n",
       "    .dataframe tbody tr th {\n",
       "        vertical-align: top;\n",
       "    }\n",
       "\n",
       "    .dataframe thead th {\n",
       "        text-align: right;\n",
       "    }\n",
       "</style>\n",
       "<table border=\"1\" class=\"dataframe\">\n",
       "  <thead>\n",
       "    <tr style=\"text-align: right;\">\n",
       "      <th></th>\n",
       "      <th>item</th>\n",
       "      <th>title</th>\n",
       "      <th>genres</th>\n",
       "    </tr>\n",
       "  </thead>\n",
       "  <tbody>\n",
       "    <tr>\n",
       "      <th>0</th>\n",
       "      <td>1</td>\n",
       "      <td>Toy Story (1995)</td>\n",
       "      <td>Adventure|Animation|Children|Comedy|Fantasy</td>\n",
       "    </tr>\n",
       "    <tr>\n",
       "      <th>1</th>\n",
       "      <td>2</td>\n",
       "      <td>Jumanji (1995)</td>\n",
       "      <td>Adventure|Children|Fantasy</td>\n",
       "    </tr>\n",
       "    <tr>\n",
       "      <th>2</th>\n",
       "      <td>3</td>\n",
       "      <td>Grumpier Old Men (1995)</td>\n",
       "      <td>Comedy|Romance</td>\n",
       "    </tr>\n",
       "    <tr>\n",
       "      <th>3</th>\n",
       "      <td>4</td>\n",
       "      <td>Waiting to Exhale (1995)</td>\n",
       "      <td>Comedy|Drama|Romance</td>\n",
       "    </tr>\n",
       "    <tr>\n",
       "      <th>4</th>\n",
       "      <td>5</td>\n",
       "      <td>Father of the Bride Part II (1995)</td>\n",
       "      <td>Comedy</td>\n",
       "    </tr>\n",
       "  </tbody>\n",
       "</table>\n",
       "</div>"
      ],
      "text/plain": [
       "   item                               title  \\\n",
       "0     1                    Toy Story (1995)   \n",
       "1     2                      Jumanji (1995)   \n",
       "2     3             Grumpier Old Men (1995)   \n",
       "3     4            Waiting to Exhale (1995)   \n",
       "4     5  Father of the Bride Part II (1995)   \n",
       "\n",
       "                                        genres  \n",
       "0  Adventure|Animation|Children|Comedy|Fantasy  \n",
       "1                   Adventure|Children|Fantasy  \n",
       "2                               Comedy|Romance  \n",
       "3                         Comedy|Drama|Romance  \n",
       "4                                       Comedy  "
      ]
     },
     "execution_count": 12,
     "metadata": {},
     "output_type": "execute_result"
    }
   ],
   "source": [
    "movies = pd.read_csv('ml_movies.csv', encoding='Latin 1')\n",
    "movies.columns = ['item', 'title', 'genres']\n",
    "movies.head()"
   ]
  },
  {
   "cell_type": "code",
   "execution_count": 9,
   "metadata": {},
   "outputs": [
    {
     "data": {
      "text/plain": [
       "2500"
      ]
     },
     "execution_count": 9,
     "metadata": {},
     "output_type": "execute_result"
    }
   ],
   "source": [
    "len(movies)"
   ]
  },
  {
   "cell_type": "markdown",
   "metadata": {},
   "source": [
    "### Genre\n",
    "Split out genres into a separate data frame with \"Item\", \"Feature\" columns."
   ]
  },
  {
   "cell_type": "code",
   "execution_count": 10,
   "metadata": {},
   "outputs": [],
   "source": [
    "item_feature_tuple_list = []\n",
    "for row in movies.itertuples():\n",
    "    features = row[-1].split(\"|\")\n",
    "    for feature in features:\n",
    "        item_feature_pair = (row[1], feature)\n",
    "        item_feature_tuple_list.append(item_feature_pair)\n",
    "\n",
    "\n",
    "# def split_and_pair_feature_to_item(features, item):\n",
    "#     pairs = []\n",
    "#     for feature in features.split(\"|\"):\n",
    "#         pairs.append((item, feature))\n",
    "        \n",
    "# features = movies.apply(split_and_pair_feature_to_item(movies['features'], movies['item']))"
   ]
  },
  {
   "cell_type": "code",
   "execution_count": 11,
   "metadata": {},
   "outputs": [],
   "source": [
    "features = pd.DataFrame(item_feature_tuple_list, columns=['item','feature'])"
   ]
  },
  {
   "cell_type": "code",
   "execution_count": 12,
   "metadata": {},
   "outputs": [
    {
     "data": {
      "text/html": [
       "<div>\n",
       "<style scoped>\n",
       "    .dataframe tbody tr th:only-of-type {\n",
       "        vertical-align: middle;\n",
       "    }\n",
       "\n",
       "    .dataframe tbody tr th {\n",
       "        vertical-align: top;\n",
       "    }\n",
       "\n",
       "    .dataframe thead th {\n",
       "        text-align: right;\n",
       "    }\n",
       "</style>\n",
       "<table border=\"1\" class=\"dataframe\">\n",
       "  <thead>\n",
       "    <tr style=\"text-align: right;\">\n",
       "      <th></th>\n",
       "      <th>item</th>\n",
       "      <th>feature</th>\n",
       "    </tr>\n",
       "  </thead>\n",
       "  <tbody>\n",
       "    <tr>\n",
       "      <th>0</th>\n",
       "      <td>1</td>\n",
       "      <td>Adventure</td>\n",
       "    </tr>\n",
       "    <tr>\n",
       "      <th>1</th>\n",
       "      <td>1</td>\n",
       "      <td>Animation</td>\n",
       "    </tr>\n",
       "    <tr>\n",
       "      <th>2</th>\n",
       "      <td>1</td>\n",
       "      <td>Children</td>\n",
       "    </tr>\n",
       "    <tr>\n",
       "      <th>3</th>\n",
       "      <td>1</td>\n",
       "      <td>Comedy</td>\n",
       "    </tr>\n",
       "    <tr>\n",
       "      <th>4</th>\n",
       "      <td>1</td>\n",
       "      <td>Fantasy</td>\n",
       "    </tr>\n",
       "  </tbody>\n",
       "</table>\n",
       "</div>"
      ],
      "text/plain": [
       "   item    feature\n",
       "0     1  Adventure\n",
       "1     1  Animation\n",
       "2     1   Children\n",
       "3     1     Comedy\n",
       "4     1    Fantasy"
      ]
     },
     "execution_count": 12,
     "metadata": {},
     "output_type": "execute_result"
    }
   ],
   "source": [
    "features.head()"
   ]
  },
  {
   "cell_type": "code",
   "execution_count": 9,
   "metadata": {},
   "outputs": [
    {
     "data": {
      "text/html": [
       "<div>\n",
       "<style scoped>\n",
       "    .dataframe tbody tr th:only-of-type {\n",
       "        vertical-align: middle;\n",
       "    }\n",
       "\n",
       "    .dataframe tbody tr th {\n",
       "        vertical-align: top;\n",
       "    }\n",
       "\n",
       "    .dataframe thead th {\n",
       "        text-align: right;\n",
       "    }\n",
       "</style>\n",
       "<table border=\"1\" class=\"dataframe\">\n",
       "  <thead>\n",
       "    <tr style=\"text-align: right;\">\n",
       "      <th></th>\n",
       "      <th>item</th>\n",
       "      <th>feature</th>\n",
       "    </tr>\n",
       "  </thead>\n",
       "  <tbody>\n",
       "    <tr>\n",
       "      <th>0</th>\n",
       "      <td>1</td>\n",
       "      <td>Adventure</td>\n",
       "    </tr>\n",
       "    <tr>\n",
       "      <th>1</th>\n",
       "      <td>1</td>\n",
       "      <td>Animation</td>\n",
       "    </tr>\n",
       "    <tr>\n",
       "      <th>2</th>\n",
       "      <td>1</td>\n",
       "      <td>Children</td>\n",
       "    </tr>\n",
       "    <tr>\n",
       "      <th>3</th>\n",
       "      <td>1</td>\n",
       "      <td>Comedy</td>\n",
       "    </tr>\n",
       "    <tr>\n",
       "      <th>4</th>\n",
       "      <td>1</td>\n",
       "      <td>Fantasy</td>\n",
       "    </tr>\n",
       "  </tbody>\n",
       "</table>\n",
       "</div>"
      ],
      "text/plain": [
       "   item    feature\n",
       "0     1  Adventure\n",
       "1     1  Animation\n",
       "2     1   Children\n",
       "3     1     Comedy\n",
       "4     1    Fantasy"
      ]
     },
     "execution_count": 9,
     "metadata": {},
     "output_type": "execute_result"
    }
   ],
   "source": []
  },
  {
   "cell_type": "markdown",
   "metadata": {},
   "source": [
    "## Instantiate algorithms\n",
    "### Naive Bayes\n",
    "Like / dislike threshold = 2.9\n",
    "alpha = 0.01\n",
    "beta = 0.02"
   ]
  },
  {
   "cell_type": "code",
   "execution_count": 13,
   "metadata": {},
   "outputs": [],
   "source": [
    "nb = NaiveBayesRecommender(thresh=2.9, alpha=0.01, beta=0.02,item_features=features)"
   ]
  },
  {
   "cell_type": "markdown",
   "metadata": {},
   "source": [
    "### Item-based knn\n",
    "neighbors = 20\n",
    "minimum similarity = 0\n",
    "center = True\n",
    "aggregate = weighted-average"
   ]
  },
  {
   "cell_type": "code",
   "execution_count": 14,
   "metadata": {},
   "outputs": [],
   "source": [
    "item_knn = ItemItem(nnbrs=20, min_sim=0, center=True, aggregate='weighted-average')"
   ]
  },
  {
   "cell_type": "markdown",
   "metadata": {},
   "source": [
    "Supplied: eval_recs"
   ]
  },
  {
   "cell_type": "code",
   "execution_count": 15,
   "metadata": {},
   "outputs": [],
   "source": [
    "def eval_recs(aname, fold, algo, train, test):\n",
    "    fittable = util.clone(algo)\n",
    "    fittable = Recommender.adapt(fittable)\n",
    "    fittable.fit(train)\n",
    "    \n",
    "    users = test.user.unique()\n",
    "    recs = batch.recommend(fittable, users, 10)\n",
    "    # add the algorithm\n",
    "    recs['Algorithm'] = aname\n",
    "    recs['Fold'] = fold\n",
    "    return recs"
   ]
  },
  {
   "cell_type": "markdown",
   "metadata": {},
   "source": [
    "5-fold cross-validation"
   ]
  },
  {
   "cell_type": "code",
   "execution_count": 16,
   "metadata": {},
   "outputs": [
    {
     "name": "stdout",
     "output_type": "stream",
     "text": [
      "Completed fold 0\n",
      "Completed fold 1\n",
      "Completed fold 2\n",
      "Completed fold 3\n",
      "Completed fold 4\n"
     ]
    }
   ],
   "source": [
    "np.random.seed(20190317)\n",
    "\n",
    "all_recs1 = []\n",
    "test_data1 = []\n",
    "fold = 0\n",
    "# 5 fold cross-validation\n",
    "for train, test in xf.partition_users(ratings[['user', 'item', 'rating']], 5, xf.SampleFrac(0.2)):\n",
    "    # Implement 5-fold cross-validation with user-based splitting\n",
    "    # Call eval_recs for each algorithm, each fold\n",
    "    # Results should be appended to all_recs\n",
    "    # Test data should be a list\n",
    "    test_data1.append(test)\n",
    "    all_recs1.append(eval_recs('NaiveBayes', fold, nb, train, test))\n",
    "    all_recs1.append(eval_recs('ItemItem', fold, item_knn, train, test))\n",
    "    print(\"Completed fold {}\".format(fold))\n",
    "    fold += 1"
   ]
  },
  {
   "cell_type": "markdown",
   "metadata": {},
   "source": [
    "Put answers together"
   ]
  },
  {
   "cell_type": "code",
   "execution_count": 17,
   "metadata": {},
   "outputs": [],
   "source": [
    "all_recs1 = pd.concat(all_recs1, ignore_index=True)\n",
    "test_data1 = pd.concat(test_data1, ignore_index=True)"
   ]
  },
  {
   "cell_type": "markdown",
   "metadata": {},
   "source": [
    "Run evaluation with precision"
   ]
  },
  {
   "cell_type": "code",
   "execution_count": 19,
   "metadata": {},
   "outputs": [
    {
     "data": {
      "text/html": [
       "<div>\n",
       "<style scoped>\n",
       "    .dataframe tbody tr th:only-of-type {\n",
       "        vertical-align: middle;\n",
       "    }\n",
       "\n",
       "    .dataframe tbody tr th {\n",
       "        vertical-align: top;\n",
       "    }\n",
       "\n",
       "    .dataframe thead tr th {\n",
       "        text-align: left;\n",
       "    }\n",
       "\n",
       "    .dataframe thead tr:last-of-type th {\n",
       "        text-align: right;\n",
       "    }\n",
       "</style>\n",
       "<table border=\"1\" class=\"dataframe\">\n",
       "  <thead>\n",
       "    <tr>\n",
       "      <th></th>\n",
       "      <th colspan=\"2\" halign=\"left\">precision</th>\n",
       "    </tr>\n",
       "    <tr>\n",
       "      <th></th>\n",
       "      <th>mean</th>\n",
       "      <th>std</th>\n",
       "    </tr>\n",
       "    <tr>\n",
       "      <th>Algorithm</th>\n",
       "      <th></th>\n",
       "      <th></th>\n",
       "    </tr>\n",
       "  </thead>\n",
       "  <tbody>\n",
       "    <tr>\n",
       "      <th>ItemItem</th>\n",
       "      <td>0.117266</td>\n",
       "      <td>0.010401</td>\n",
       "    </tr>\n",
       "    <tr>\n",
       "      <th>NaiveBayes</th>\n",
       "      <td>0.030858</td>\n",
       "      <td>0.007944</td>\n",
       "    </tr>\n",
       "  </tbody>\n",
       "</table>\n",
       "</div>"
      ],
      "text/plain": [
       "           precision          \n",
       "                mean       std\n",
       "Algorithm                     \n",
       "ItemItem    0.117266  0.010401\n",
       "NaiveBayes  0.030858  0.007944"
      ]
     },
     "execution_count": 19,
     "metadata": {},
     "output_type": "execute_result"
    }
   ],
   "source": [
    "rla = topn.RecListAnalysis()\n",
    "rla.add_metric(topn.precision)\n",
    "\n",
    "A = all_recs1.groupby(['Algorithm','Fold']).apply(lambda df: rla.compute(df, test_data1))\n",
    "\n",
    "B = A.groupby(['Algorithm', 'Fold']).mean()\n",
    "C = B.groupby(['Algorithm']).agg([np.mean, np.std])\n",
    "\n",
    "C"
   ]
  },
  {
   "cell_type": "code",
   "execution_count": 15,
   "metadata": {},
   "outputs": [
    {
     "data": {
      "text/html": [
       "<div>\n",
       "<style scoped>\n",
       "    .dataframe tbody tr th:only-of-type {\n",
       "        vertical-align: middle;\n",
       "    }\n",
       "\n",
       "    .dataframe tbody tr th {\n",
       "        vertical-align: top;\n",
       "    }\n",
       "\n",
       "    .dataframe thead tr th {\n",
       "        text-align: left;\n",
       "    }\n",
       "\n",
       "    .dataframe thead tr:last-of-type th {\n",
       "        text-align: right;\n",
       "    }\n",
       "</style>\n",
       "<table border=\"1\" class=\"dataframe\">\n",
       "  <thead>\n",
       "    <tr>\n",
       "      <th></th>\n",
       "      <th colspan=\"2\" halign=\"left\">precision</th>\n",
       "    </tr>\n",
       "    <tr>\n",
       "      <th></th>\n",
       "      <th>mean</th>\n",
       "      <th>std</th>\n",
       "    </tr>\n",
       "    <tr>\n",
       "      <th>Algorithm</th>\n",
       "      <th></th>\n",
       "      <th></th>\n",
       "    </tr>\n",
       "  </thead>\n",
       "  <tbody>\n",
       "    <tr>\n",
       "      <th>ItemKnn</th>\n",
       "      <td>0.117266</td>\n",
       "      <td>0.010401</td>\n",
       "    </tr>\n",
       "    <tr>\n",
       "      <th>NaiveBayes</th>\n",
       "      <td>0.041514</td>\n",
       "      <td>0.002068</td>\n",
       "    </tr>\n",
       "  </tbody>\n",
       "</table>\n",
       "</div>"
      ],
      "text/plain": [
       "           precision          \n",
       "                mean       std\n",
       "Algorithm                     \n",
       "ItemKnn     0.117266  0.010401\n",
       "NaiveBayes  0.041514  0.002068"
      ]
     },
     "execution_count": 15,
     "metadata": {},
     "output_type": "execute_result"
    }
   ],
   "source": []
  },
  {
   "cell_type": "markdown",
   "metadata": {},
   "source": [
    "Plot using a bar chart with error bars as in Homework 3"
   ]
  },
  {
   "cell_type": "code",
   "execution_count": 20,
   "metadata": {},
   "outputs": [
    {
     "data": {
      "image/png": "[encoded data removed]",
      "text/plain": [
       "<matplotlib.figure.Figure at 0x1164fce80>"
      ]
     },
     "metadata": {},
     "output_type": "display_data"
    }
   ],
   "source": [
    "algos = [i for i in C.index]\n",
    "p_means = [p for p in C['precision']['mean']]\n",
    "p_std = [s for s in C['precision']['std']]\n",
    "\n",
    "plt.bar(algos, p_means, yerr=p_std)\n",
    "plt.ylabel('Precision@10')\n",
    "\n",
    "plt.show()"
   ]
  },
  {
   "cell_type": "code",
   "execution_count": 16,
   "metadata": {},
   "outputs": [
    {
     "data": {
      "text/plain": [
       "Text(0, 0.5, 'precision@10')"
      ]
     },
     "execution_count": 16,
     "metadata": {},
     "output_type": "execute_result"
    },
    {
     "data": {
      "image/png": "[encoded data removed]",
      "text/plain": [
       "<Figure size 432x288 with 1 Axes>"
      ]
     },
     "metadata": {
      "needs_background": "light"
     },
     "output_type": "display_data"
    }
   ],
   "source": []
  },
  {
   "cell_type": "markdown",
   "metadata": {},
   "source": [
    "### Question\n",
    "You can see that the content-based recommender has lower precision@10 than the collaborative one. Do you think that a weighted hybrid of these two methods would be better than the collaborative one alone? Justify your answer."
   ]
  },
  {
   "cell_type": "markdown",
   "metadata": {},
   "source": [
    "### Answer\n",
    "Yes, using a weighted hybrid with both ItemKNN and NaiveBayes would provide a higher precision than just using one method alone. With NaiveBayes as one method in the weighted hybrid, we would be incorporating the content-based information of each item to add on top of the item similarity that the ItemKNN method is calculating.  "
   ]
  },
  {
   "cell_type": "markdown",
   "metadata": {},
   "source": [
    "## Using tags as content (INFO 5871)\n",
    "Here you will use the same implementation as above, but you will use a different set of content data -- the tags from `ml_tags.csv`."
   ]
  },
  {
   "cell_type": "code",
   "execution_count": 17,
   "metadata": {},
   "outputs": [
    {
     "data": {
      "text/html": [
       "<div>\n",
       "<style scoped>\n",
       "    .dataframe tbody tr th:only-of-type {\n",
       "        vertical-align: middle;\n",
       "    }\n",
       "\n",
       "    .dataframe tbody tr th {\n",
       "        vertical-align: top;\n",
       "    }\n",
       "\n",
       "    .dataframe thead th {\n",
       "        text-align: right;\n",
       "    }\n",
       "</style>\n",
       "<table border=\"1\" class=\"dataframe\">\n",
       "  <thead>\n",
       "    <tr style=\"text-align: right;\">\n",
       "      <th></th>\n",
       "      <th>movieId</th>\n",
       "      <th>userId</th>\n",
       "      <th>tag</th>\n",
       "      <th>timestamp</th>\n",
       "    </tr>\n",
       "  </thead>\n",
       "  <tbody>\n",
       "    <tr>\n",
       "      <th>0</th>\n",
       "      <td>3916</td>\n",
       "      <td>12882</td>\n",
       "      <td>sports</td>\n",
       "      <td>1147195545</td>\n",
       "    </tr>\n",
       "    <tr>\n",
       "      <th>1</th>\n",
       "      <td>4085</td>\n",
       "      <td>12882</td>\n",
       "      <td>Eddie Murphy</td>\n",
       "      <td>1147195966</td>\n",
       "    </tr>\n",
       "    <tr>\n",
       "      <th>2</th>\n",
       "      <td>33660</td>\n",
       "      <td>12882</td>\n",
       "      <td>boxing</td>\n",
       "      <td>1147195514</td>\n",
       "    </tr>\n",
       "    <tr>\n",
       "      <th>3</th>\n",
       "      <td>1197</td>\n",
       "      <td>320</td>\n",
       "      <td>must show</td>\n",
       "      <td>1145964801</td>\n",
       "    </tr>\n",
       "    <tr>\n",
       "      <th>4</th>\n",
       "      <td>1396</td>\n",
       "      <td>320</td>\n",
       "      <td>must show</td>\n",
       "      <td>1145964810</td>\n",
       "    </tr>\n",
       "  </tbody>\n",
       "</table>\n",
       "</div>"
      ],
      "text/plain": [
       "   movieId  userId           tag   timestamp\n",
       "0     3916   12882        sports  1147195545\n",
       "1     4085   12882  Eddie Murphy  1147195966\n",
       "2    33660   12882        boxing  1147195514\n",
       "3     1197     320     must show  1145964801\n",
       "4     1396     320     must show  1145964810"
      ]
     },
     "execution_count": 17,
     "metadata": {},
     "output_type": "execute_result"
    }
   ],
   "source": []
  },
  {
   "cell_type": "markdown",
   "metadata": {},
   "source": [
    "Calculate entropy of tag collection\n",
    "\n",
    "$e_{tag} = - p_{tag} \\log_{2} p_{tag}$\n",
    "\n",
    "$p_{tag}$ = count of tag occurence / number of tagging events"
   ]
  },
  {
   "cell_type": "code",
   "execution_count": 18,
   "metadata": {},
   "outputs": [
    {
     "data": {
      "text/html": [
       "<div>\n",
       "<style scoped>\n",
       "    .dataframe tbody tr th:only-of-type {\n",
       "        vertical-align: middle;\n",
       "    }\n",
       "\n",
       "    .dataframe tbody tr th {\n",
       "        vertical-align: top;\n",
       "    }\n",
       "\n",
       "    .dataframe thead th {\n",
       "        text-align: right;\n",
       "    }\n",
       "</style>\n",
       "<table border=\"1\" class=\"dataframe\">\n",
       "  <thead>\n",
       "    <tr style=\"text-align: right;\">\n",
       "      <th></th>\n",
       "      <th>prob</th>\n",
       "      <th>entropy</th>\n",
       "    </tr>\n",
       "    <tr>\n",
       "      <th>tag</th>\n",
       "      <th></th>\n",
       "      <th></th>\n",
       "    </tr>\n",
       "  </thead>\n",
       "  <tbody>\n",
       "    <tr>\n",
       "      <th>\"A MÃ£o-de-Deus\"</th>\n",
       "      <td>0.000011</td>\n",
       "      <td>0.000174</td>\n",
       "    </tr>\n",
       "    <tr>\n",
       "      <th>\"Duck and cover!\"</th>\n",
       "      <td>0.000011</td>\n",
       "      <td>0.000174</td>\n",
       "    </tr>\n",
       "    <tr>\n",
       "      <th>\"I need a computer.\"</th>\n",
       "      <td>0.000011</td>\n",
       "      <td>0.000174</td>\n",
       "    </tr>\n",
       "    <tr>\n",
       "      <th>\"The Hunter\"</th>\n",
       "      <td>0.000011</td>\n",
       "      <td>0.000174</td>\n",
       "    </tr>\n",
       "    <tr>\n",
       "      <th>\"bitchy\"</th>\n",
       "      <td>0.000011</td>\n",
       "      <td>0.000174</td>\n",
       "    </tr>\n",
       "  </tbody>\n",
       "</table>\n",
       "</div>"
      ],
      "text/plain": [
       "                          prob   entropy\n",
       "tag                                     \n",
       "\"A MÃ£o-de-Deus\"      0.000011  0.000174\n",
       "\"Duck and cover!\"     0.000011  0.000174\n",
       "\"I need a computer.\"  0.000011  0.000174\n",
       "\"The Hunter\"          0.000011  0.000174\n",
       "\"bitchy\"              0.000011  0.000174"
      ]
     },
     "execution_count": 18,
     "metadata": {},
     "output_type": "execute_result"
    }
   ],
   "source": []
  },
  {
   "cell_type": "markdown",
   "metadata": {},
   "source": [
    "Drop tags with entropy <= 0.001. (There aren't tags with high entropy, so we won't filter for that.)"
   ]
  },
  {
   "cell_type": "code",
   "execution_count": null,
   "metadata": {},
   "outputs": [],
   "source": []
  },
  {
   "cell_type": "markdown",
   "metadata": {},
   "source": [
    "Use this set of tags to filtering the original tag data so that it only includes the tags with higher entropy."
   ]
  },
  {
   "cell_type": "code",
   "execution_count": 20,
   "metadata": {},
   "outputs": [
    {
     "data": {
      "text/html": [
       "<div>\n",
       "<style scoped>\n",
       "    .dataframe tbody tr th:only-of-type {\n",
       "        vertical-align: middle;\n",
       "    }\n",
       "\n",
       "    .dataframe tbody tr th {\n",
       "        vertical-align: top;\n",
       "    }\n",
       "\n",
       "    .dataframe thead th {\n",
       "        text-align: right;\n",
       "    }\n",
       "</style>\n",
       "<table border=\"1\" class=\"dataframe\">\n",
       "  <thead>\n",
       "    <tr style=\"text-align: right;\">\n",
       "      <th></th>\n",
       "      <th>prob</th>\n",
       "      <th>entropy</th>\n",
       "      <th>movieId</th>\n",
       "      <th>userId</th>\n",
       "      <th>timestamp</th>\n",
       "    </tr>\n",
       "    <tr>\n",
       "      <th>tag</th>\n",
       "      <th></th>\n",
       "      <th></th>\n",
       "      <th></th>\n",
       "      <th></th>\n",
       "      <th></th>\n",
       "    </tr>\n",
       "  </thead>\n",
       "  <tbody>\n",
       "    <tr>\n",
       "      <th>\"damn dirty apes\"</th>\n",
       "      <td>0.000116</td>\n",
       "      <td>0.001516</td>\n",
       "      <td>2529</td>\n",
       "      <td>27898</td>\n",
       "      <td>1279147178</td>\n",
       "    </tr>\n",
       "    <tr>\n",
       "      <th>\"damn dirty apes\"</th>\n",
       "      <td>0.000116</td>\n",
       "      <td>0.001516</td>\n",
       "      <td>2530</td>\n",
       "      <td>10514</td>\n",
       "      <td>1341510171</td>\n",
       "    </tr>\n",
       "    <tr>\n",
       "      <th>\"damn dirty apes\"</th>\n",
       "      <td>0.000116</td>\n",
       "      <td>0.001516</td>\n",
       "      <td>2530</td>\n",
       "      <td>134156</td>\n",
       "      <td>1181700629</td>\n",
       "    </tr>\n",
       "    <tr>\n",
       "      <th>\"damn dirty apes\"</th>\n",
       "      <td>0.000116</td>\n",
       "      <td>0.001516</td>\n",
       "      <td>2531</td>\n",
       "      <td>134156</td>\n",
       "      <td>1181700651</td>\n",
       "    </tr>\n",
       "    <tr>\n",
       "      <th>\"damn dirty apes\"</th>\n",
       "      <td>0.000116</td>\n",
       "      <td>0.001516</td>\n",
       "      <td>2533</td>\n",
       "      <td>134156</td>\n",
       "      <td>1181700658</td>\n",
       "    </tr>\n",
       "  </tbody>\n",
       "</table>\n",
       "</div>"
      ],
      "text/plain": [
       "                       prob   entropy  movieId  userId   timestamp\n",
       "tag                                                               \n",
       "\"damn dirty apes\"  0.000116  0.001516     2529   27898  1279147178\n",
       "\"damn dirty apes\"  0.000116  0.001516     2530   10514  1341510171\n",
       "\"damn dirty apes\"  0.000116  0.001516     2530  134156  1181700629\n",
       "\"damn dirty apes\"  0.000116  0.001516     2531  134156  1181700651\n",
       "\"damn dirty apes\"  0.000116  0.001516     2533  134156  1181700658"
      ]
     },
     "execution_count": 20,
     "metadata": {},
     "output_type": "execute_result"
    }
   ],
   "source": []
  },
  {
   "cell_type": "markdown",
   "metadata": {},
   "source": [
    "Convert filtered tag data to collection of features for the content-based recommender"
   ]
  },
  {
   "cell_type": "code",
   "execution_count": 21,
   "metadata": {},
   "outputs": [],
   "source": []
  },
  {
   "cell_type": "code",
   "execution_count": 22,
   "metadata": {},
   "outputs": [
    {
     "data": {
      "text/html": [
       "<div>\n",
       "<style scoped>\n",
       "    .dataframe tbody tr th:only-of-type {\n",
       "        vertical-align: middle;\n",
       "    }\n",
       "\n",
       "    .dataframe tbody tr th {\n",
       "        vertical-align: top;\n",
       "    }\n",
       "\n",
       "    .dataframe thead th {\n",
       "        text-align: right;\n",
       "    }\n",
       "</style>\n",
       "<table border=\"1\" class=\"dataframe\">\n",
       "  <thead>\n",
       "    <tr style=\"text-align: right;\">\n",
       "      <th></th>\n",
       "      <th>item</th>\n",
       "      <th>feature</th>\n",
       "    </tr>\n",
       "  </thead>\n",
       "  <tbody>\n",
       "    <tr>\n",
       "      <th>0</th>\n",
       "      <td>2529</td>\n",
       "      <td>\"damn dirty apes\"</td>\n",
       "    </tr>\n",
       "    <tr>\n",
       "      <th>1</th>\n",
       "      <td>2530</td>\n",
       "      <td>\"damn dirty apes\"</td>\n",
       "    </tr>\n",
       "    <tr>\n",
       "      <th>2</th>\n",
       "      <td>2530</td>\n",
       "      <td>\"damn dirty apes\"</td>\n",
       "    </tr>\n",
       "    <tr>\n",
       "      <th>3</th>\n",
       "      <td>2531</td>\n",
       "      <td>\"damn dirty apes\"</td>\n",
       "    </tr>\n",
       "    <tr>\n",
       "      <th>4</th>\n",
       "      <td>2533</td>\n",
       "      <td>\"damn dirty apes\"</td>\n",
       "    </tr>\n",
       "  </tbody>\n",
       "</table>\n",
       "</div>"
      ],
      "text/plain": [
       "   item            feature\n",
       "0  2529  \"damn dirty apes\"\n",
       "1  2530  \"damn dirty apes\"\n",
       "2  2530  \"damn dirty apes\"\n",
       "3  2531  \"damn dirty apes\"\n",
       "4  2533  \"damn dirty apes\""
      ]
     },
     "execution_count": 22,
     "metadata": {},
     "output_type": "execute_result"
    }
   ],
   "source": [
    "tag_features.head()"
   ]
  },
  {
   "cell_type": "markdown",
   "metadata": {},
   "source": [
    "Create the NaiveBayesRecommender with these features. thresh=2.9, alpha=0.01, beta=0.02"
   ]
  },
  {
   "cell_type": "code",
   "execution_count": 23,
   "metadata": {},
   "outputs": [],
   "source": []
  },
  {
   "cell_type": "markdown",
   "metadata": {},
   "source": [
    "Run the evaluation"
   ]
  },
  {
   "cell_type": "code",
   "execution_count": null,
   "metadata": {},
   "outputs": [],
   "source": [
    "np.random.seed(20190317)\n",
    "\n",
    "all_recs2 = []\n",
    "test_data2 = []\n",
    "fold = 0\n",
    "# Evaluation code here\n",
    "    fold += 1"
   ]
  },
  {
   "cell_type": "markdown",
   "metadata": {},
   "source": [
    "Assemble the results data"
   ]
  },
  {
   "cell_type": "code",
   "execution_count": 25,
   "metadata": {},
   "outputs": [],
   "source": [
    "all_recs2 = pd.concat(all_recs2, ignore_index=True)\n",
    "test_data2 = pd.concat(test_data2, ignore_index=True)"
   ]
  },
  {
   "cell_type": "markdown",
   "metadata": {},
   "source": [
    "Compute precision at 10."
   ]
  },
  {
   "cell_type": "code",
   "execution_count": 26,
   "metadata": {},
   "outputs": [
    {
     "data": {
      "text/html": [
       "<div>\n",
       "<style scoped>\n",
       "    .dataframe tbody tr th:only-of-type {\n",
       "        vertical-align: middle;\n",
       "    }\n",
       "\n",
       "    .dataframe tbody tr th {\n",
       "        vertical-align: top;\n",
       "    }\n",
       "\n",
       "    .dataframe thead tr th {\n",
       "        text-align: left;\n",
       "    }\n",
       "\n",
       "    .dataframe thead tr:last-of-type th {\n",
       "        text-align: right;\n",
       "    }\n",
       "</style>\n",
       "<table border=\"1\" class=\"dataframe\">\n",
       "  <thead>\n",
       "    <tr>\n",
       "      <th></th>\n",
       "      <th colspan=\"2\" halign=\"left\">precision</th>\n",
       "    </tr>\n",
       "    <tr>\n",
       "      <th></th>\n",
       "      <th>mean</th>\n",
       "      <th>std</th>\n",
       "    </tr>\n",
       "    <tr>\n",
       "      <th>Algorithm</th>\n",
       "      <th></th>\n",
       "      <th></th>\n",
       "    </tr>\n",
       "  </thead>\n",
       "  <tbody>\n",
       "    <tr>\n",
       "      <th>NaiveBayes</th>\n",
       "      <td>0.212385</td>\n",
       "      <td>0.008791</td>\n",
       "    </tr>\n",
       "  </tbody>\n",
       "</table>\n",
       "</div>"
      ],
      "text/plain": [
       "           precision          \n",
       "                mean       std\n",
       "Algorithm                     \n",
       "NaiveBayes  0.212385  0.008791"
      ]
     },
     "execution_count": 26,
     "metadata": {},
     "output_type": "execute_result"
    }
   ],
   "source": []
  },
  {
   "cell_type": "markdown",
   "metadata": {},
   "source": [
    "Combine with the results from part 1"
   ]
  },
  {
   "cell_type": "code",
   "execution_count": 29,
   "metadata": {},
   "outputs": [
    {
     "data": {
      "text/html": [
       "<div>\n",
       "<style scoped>\n",
       "    .dataframe tbody tr th:only-of-type {\n",
       "        vertical-align: middle;\n",
       "    }\n",
       "\n",
       "    .dataframe tbody tr th {\n",
       "        vertical-align: top;\n",
       "    }\n",
       "\n",
       "    .dataframe thead tr th {\n",
       "        text-align: left;\n",
       "    }\n",
       "\n",
       "    .dataframe thead tr:last-of-type th {\n",
       "        text-align: right;\n",
       "    }\n",
       "</style>\n",
       "<table border=\"1\" class=\"dataframe\">\n",
       "  <thead>\n",
       "    <tr>\n",
       "      <th></th>\n",
       "      <th colspan=\"2\" halign=\"left\">precision</th>\n",
       "    </tr>\n",
       "    <tr>\n",
       "      <th></th>\n",
       "      <th>mean</th>\n",
       "      <th>std</th>\n",
       "    </tr>\n",
       "    <tr>\n",
       "      <th>Algorithm</th>\n",
       "      <th></th>\n",
       "      <th></th>\n",
       "    </tr>\n",
       "  </thead>\n",
       "  <tbody>\n",
       "    <tr>\n",
       "      <th>ItemKnn</th>\n",
       "      <td>0.117266</td>\n",
       "      <td>0.010401</td>\n",
       "    </tr>\n",
       "    <tr>\n",
       "      <th>Genre</th>\n",
       "      <td>0.041514</td>\n",
       "      <td>0.002068</td>\n",
       "    </tr>\n",
       "    <tr>\n",
       "      <th>Tags</th>\n",
       "      <td>0.212385</td>\n",
       "      <td>0.008791</td>\n",
       "    </tr>\n",
       "  </tbody>\n",
       "</table>\n",
       "</div>"
      ],
      "text/plain": [
       "          precision          \n",
       "               mean       std\n",
       "Algorithm                    \n",
       "ItemKnn    0.117266  0.010401\n",
       "Genre      0.041514  0.002068\n",
       "Tags       0.212385  0.008791"
      ]
     },
     "execution_count": 29,
     "metadata": {},
     "output_type": "execute_result"
    }
   ],
   "source": []
  },
  {
   "cell_type": "markdown",
   "metadata": {},
   "source": [
    "Plot all three results as a bar plot with error bars."
   ]
  },
  {
   "cell_type": "code",
   "execution_count": 30,
   "metadata": {},
   "outputs": [
    {
     "data": {
      "text/plain": [
       "Text(0, 0.5, 'precision@10')"
      ]
     },
     "execution_count": 30,
     "metadata": {},
     "output_type": "execute_result"
    },
    {
     "data": {
      "image/png": "[encoded data removed]",
      "text/plain": [
       "<Figure size 432x288 with 1 Axes>"
      ]
     },
     "metadata": {
      "needs_background": "light"
     },
     "output_type": "display_data"
    }
   ],
   "source": []
  },
  {
   "cell_type": "markdown",
   "metadata": {},
   "source": [
    "### Question\n",
    "You will see that the tags form a better basis for content-based recommendation than the genre data and even better than the collaborative recommender. Why do you think this is the case here when the genre-based method was not as good? "
   ]
  },
  {
   "cell_type": "markdown",
   "metadata": {},
   "source": [
    "### Answer\n",
    "_your answer here_"
   ]
  },
  {
   "cell_type": "code",
   "execution_count": null,
   "metadata": {},
   "outputs": [],
   "source": []
  }
 ],
 "metadata": {
  "kernelspec": {
   "display_name": "Python 3",
   "language": "python",
   "name": "python3"
  },
  "language_info": {
   "codemirror_mode": {
    "name": "ipython",
    "version": 3
   },
   "file_extension": ".py",
   "mimetype": "text/x-python",
   "name": "python",
   "nbconvert_exporter": "python",
   "pygments_lexer": "ipython3",
   "version": "3.6.4"
  }
 },
 "nbformat": 4,
 "nbformat_minor": 2
}
