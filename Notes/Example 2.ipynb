{
 "cells": [
  {
   "cell_type": "markdown",
   "metadata": {},
   "source": [
    "# Example 2\n",
    "A manual walk-through of factorization via gradient descent\n",
    "\n",
    "- Robin Burke\n",
    "- University of Colorado, Boulder\n",
    "- Spring 2019"
   ]
  },
  {
   "cell_type": "code",
   "execution_count": null,
   "metadata": {},
   "outputs": [],
   "source": [
    "import numpy as np\n",
    "import pandas as pd"
   ]
  },
  {
   "cell_type": "markdown",
   "metadata": {},
   "source": [
    "Matrix is 5x3:\n",
    "\n",
    "1. 3 3 5\n",
    "2. 1 4 1\n",
    "3. 1 4 ?\n",
    "4. 1 ? 1\n",
    "5. 3 ? 5\n"
   ]
  },
  {
   "cell_type": "code",
   "execution_count": null,
   "metadata": {},
   "outputs": [],
   "source": [
    "ratings = [(1,1,3), (1,2,3), (1,3,5), \n",
    "           (2,1,1), (2,2,4), (2,3,1), \n",
    "           (3,1,1), (3,2,4),\n",
    "           (4,1,1), (4,3,1),\n",
    "           (5,1,3), (5,3,5)]\n",
    "\n",
    "missing = [(3,3), (4,2), (5,2)]"
   ]
  },
  {
   "cell_type": "markdown",
   "metadata": {},
   "source": [
    "Assuming 2 latent factors. User factor matrix is 5x2. Randomly initialized.\n"
   ]
  },
  {
   "cell_type": "code",
   "execution_count": null,
   "metadata": {},
   "outputs": [],
   "source": [
    "np.random.seed(20190211)\n",
    "\n",
    "u_factors = np.random.rand(10)+0.5\n",
    "u_factors.shape = (5,2)"
   ]
  },
  {
   "cell_type": "code",
   "execution_count": null,
   "metadata": {},
   "outputs": [],
   "source": [
    "u_factors"
   ]
  },
  {
   "cell_type": "markdown",
   "metadata": {},
   "source": [
    "Item factor matrix is 3x2. Randomly initialized. Working with the transpose."
   ]
  },
  {
   "cell_type": "code",
   "execution_count": null,
   "metadata": {},
   "outputs": [],
   "source": [
    "v_factorst = np.random.rand(6)+0.5\n",
    "v_factorst.shape = (2,3)"
   ]
  },
  {
   "cell_type": "code",
   "execution_count": null,
   "metadata": {},
   "outputs": [],
   "source": [
    "v_factorst"
   ]
  },
  {
   "cell_type": "markdown",
   "metadata": {},
   "source": [
    "## The learning algorithm"
   ]
  },
  {
   "cell_type": "code",
   "execution_count": null,
   "metadata": {},
   "outputs": [],
   "source": [
    "learning_rate = 0.1\n",
    "user_range = np.arange(0,5)\n",
    "item_range = np.arange(0,3)\n",
    "factor_range = np.arange(0,2)"
   ]
  },
  {
   "cell_type": "markdown",
   "metadata": {},
   "source": [
    "### TOP OF THE LOOP\n",
    "### Calculate error with current U and V matrices"
   ]
  },
  {
   "cell_type": "code",
   "execution_count": null,
   "metadata": {},
   "outputs": [],
   "source": [
    "# Calculate errors for each known rating\n",
    "errors = []\n",
    "for u,i,r in ratings:\n",
    "    r_hat = u_factors[u-1].dot(v_factorst[:,i-1])\n",
    "    errors.append((u,i,r - r_hat))\n",
    "\n",
    "# Build data frame\n",
    "errors_df = pd.DataFrame(errors)\n",
    "errors_df.columns = ['user', 'item', 'error']\n",
    "errors_df = errors_df.set_index(['user','item'])\n",
    "\n",
    "# Set missing ratings to zero error\n",
    "# Makes the update code easier to write\n",
    "for user,item in missing:\n",
    "    errors_df.loc[(user,item),'error'] = 0\n",
    "    \n",
    "# Objective function = sum of squared errors\n",
    "(errors_df['error'] **2).sum()"
   ]
  },
  {
   "cell_type": "markdown",
   "metadata": {},
   "source": [
    "### Update the user factors\n",
    "Note mismatch between error data frame indexing (1-based) and array indexing (0-based)."
   ]
  },
  {
   "cell_type": "code",
   "execution_count": null,
   "metadata": {},
   "outputs": [],
   "source": [
    "u_factors_new = u_factors.copy()\n",
    "\n",
    "for i in user_range:\n",
    "    for s in factor_range:\n",
    "        term_sum = 0\n",
    "        for j in item_range:\n",
    "            term_sum += errors_df.loc[(i+1,j+1),'error'] * v_factorst[s,j]\n",
    "        u_factors_new += learning_rate * term_sum\n",
    "        \n",
    "u_factors_new"
   ]
  },
  {
   "cell_type": "markdown",
   "metadata": {},
   "source": [
    "### Update the item factors"
   ]
  },
  {
   "cell_type": "code",
   "execution_count": null,
   "metadata": {},
   "outputs": [],
   "source": [
    "v_factorst_new = v_factorst.copy()\n",
    "\n",
    "\n",
    "for j in item_range:\n",
    "    for s in factor_range:\n",
    "        term_sum = 0\n",
    "        for i in user_range:\n",
    "            term_sum += errors_df.loc[(i+1, j+1),'error'] * u_factors[i,s]\n",
    "        v_factorst_new += learning_rate * term_sum\n",
    "\n",
    "v_factorst_new"
   ]
  },
  {
   "cell_type": "markdown",
   "metadata": {},
   "source": [
    "### Replace the old factor matrices with the new ones"
   ]
  },
  {
   "cell_type": "code",
   "execution_count": null,
   "metadata": {},
   "outputs": [],
   "source": [
    "u_factors = u_factors_new\n",
    "v_factorst = v_factorst_new"
   ]
  },
  {
   "cell_type": "markdown",
   "metadata": {},
   "source": [
    "## GO BACK TO ERROR CALCULATION"
   ]
  },
  {
   "cell_type": "code",
   "execution_count": null,
   "metadata": {},
   "outputs": [],
   "source": [
    "u_factors"
   ]
  },
  {
   "cell_type": "code",
   "execution_count": null,
   "metadata": {},
   "outputs": [],
   "source": [
    "v_factorst"
   ]
  },
  {
   "cell_type": "code",
   "execution_count": null,
   "metadata": {},
   "outputs": [],
   "source": [
    "for user,item in missing:\n",
    "    pred = u_factors[user-1].dot(v_factorst[:,item-1])\n",
    "    print(\"User {} Item {} Prediction {:.2f}\".format(user, item, pred))"
   ]
  },
  {
   "cell_type": "code",
   "execution_count": null,
   "metadata": {},
   "outputs": [],
   "source": []
  }
 ],
 "metadata": {
  "kernelspec": {
   "display_name": "Python 3",
   "language": "python",
   "name": "python3"
  },
  "language_info": {
   "codemirror_mode": {
    "name": "ipython",
    "version": 3
   },
   "file_extension": ".py",
   "mimetype": "text/x-python",
   "name": "python",
   "nbconvert_exporter": "python",
   "pygments_lexer": "ipython3",
   "version": "3.6.4"
  }
 },
 "nbformat": 4,
 "nbformat_minor": 2
}
